{
  "nbformat": 4,
  "nbformat_minor": 0,
  "metadata": {
    "colab": {
      "name": "vaccine.ipynb",
      "provenance": [],
      "collapsed_sections": [],
      "toc_visible": true,
      "authorship_tag": "ABX9TyNRFVqlyc3zd6kAbLGU4FhQ",
      "include_colab_link": true
    },
    "kernelspec": {
      "display_name": "Python 3",
      "name": "python3"
    },
    "language_info": {
      "name": "python"
    }
  },
  "cells": [
    {
      "cell_type": "markdown",
      "metadata": {
        "id": "view-in-github",
        "colab_type": "text"
      },
      "source": [
        "<a href=\"https://colab.research.google.com/github/MaxTrivedi/test/blob/main/vaccine.ipynb\" target=\"_parent\"><img src=\"https://colab.research.google.com/assets/colab-badge.svg\" alt=\"Open In Colab\"/></a>"
      ]
    },
    {
      "cell_type": "code",
      "metadata": {
        "id": "Pmm2SzuFUxiT"
      },
      "source": [
        "import numpy as np \n",
        "import pandas as pd\n",
        "import warnings\n",
        "warnings.simplefilter(\"ignore\")\n",
        "import numpy as np\n",
        "import pandas as pd\n",
        "import seaborn as sns\n",
        "import matplotlib.pyplot as plt\n",
        "plt.style.use('ggplot')\n",
        "%matplotlib inline"
      ],
      "execution_count": null,
      "outputs": []
    },
    {
      "cell_type": "code",
      "metadata": {
        "colab": {
          "base_uri": "https://localhost:8080/",
          "height": 313
        },
        "id": "JV_KM-VklbY6",
        "outputId": "ebb68b68-3be0-4020-dc39-0b14507ca0b4"
      },
      "source": [
        "dataset = pd.read_csv(\"/content/vaccine_data.csv\", na_values='NaN')\n",
        "dataset.columns = (dataset.columns.str.strip().str.upper()\n",
        "              .str.replace(' ', '_')\n",
        "              .str.replace('(', '')\n",
        "              .str.replace(')', ''))\n",
        "dataset.head()\n"
      ],
      "execution_count": null,
      "outputs": [
        {
          "output_type": "execute_result",
          "data": {
            "text/html": [
              "<div>\n",
              "<style scoped>\n",
              "    .dataframe tbody tr th:only-of-type {\n",
              "        vertical-align: middle;\n",
              "    }\n",
              "\n",
              "    .dataframe tbody tr th {\n",
              "        vertical-align: top;\n",
              "    }\n",
              "\n",
              "    .dataframe thead th {\n",
              "        text-align: right;\n",
              "    }\n",
              "</style>\n",
              "<table border=\"1\" class=\"dataframe\">\n",
              "  <thead>\n",
              "    <tr style=\"text-align: right;\">\n",
              "      <th></th>\n",
              "      <th>RESPONDENT_ID</th>\n",
              "      <th>H1N1_CONCERN</th>\n",
              "      <th>H1N1_KNOWLEDGE</th>\n",
              "      <th>BEHAVIORAL_ANTIVIRAL_MEDS</th>\n",
              "      <th>BEHAVIORAL_AVOIDANCE</th>\n",
              "      <th>BEHAVIORAL_FACE_MASK</th>\n",
              "      <th>BEHAVIORAL_WASH_HANDS</th>\n",
              "      <th>BEHAVIORAL_LARGE_GATHERINGS</th>\n",
              "      <th>BEHAVIORAL_OUTSIDE_HOME</th>\n",
              "      <th>BEHAVIORAL_TOUCH_FACE</th>\n",
              "      <th>DOCTOR_RECC_H1N1</th>\n",
              "      <th>DOCTOR_RECC_SEASONAL</th>\n",
              "      <th>CHRONIC_MED_CONDITION</th>\n",
              "      <th>CHILD_UNDER_6_MONTHS</th>\n",
              "      <th>HEALTH_WORKER</th>\n",
              "      <th>HEALTH_INSURANCE</th>\n",
              "      <th>OPINION_H1N1_VACC_EFFECTIVE</th>\n",
              "      <th>OPINION_H1N1_RISK</th>\n",
              "      <th>OPINION_H1N1_SICK_FROM_VACC</th>\n",
              "      <th>OPINION_SEAS_VACC_EFFECTIVE</th>\n",
              "      <th>OPINION_SEAS_RISK</th>\n",
              "      <th>OPINION_SEAS_SICK_FROM_VACC</th>\n",
              "      <th>AGE_GROUP</th>\n",
              "      <th>EDUCATION</th>\n",
              "      <th>RACE</th>\n",
              "      <th>SEX</th>\n",
              "      <th>INCOME_POVERTY</th>\n",
              "      <th>MARITAL_STATUS</th>\n",
              "      <th>RENT_OR_OWN</th>\n",
              "      <th>EMPLOYMENT_STATUS</th>\n",
              "      <th>HHS_GEO_REGION</th>\n",
              "      <th>CENSUS_MSA</th>\n",
              "      <th>HOUSEHOLD_ADULTS</th>\n",
              "      <th>HOUSEHOLD_CHILDREN</th>\n",
              "      <th>EMPLOYMENT_INDUSTRY</th>\n",
              "      <th>EMPLOYMENT_OCCUPATION</th>\n",
              "      <th>H1N1_VACCINE</th>\n",
              "      <th>SEASONAL_VACCINE</th>\n",
              "    </tr>\n",
              "  </thead>\n",
              "  <tbody>\n",
              "    <tr>\n",
              "      <th>0</th>\n",
              "      <td>0</td>\n",
              "      <td>1.0</td>\n",
              "      <td>0.0</td>\n",
              "      <td>0.0</td>\n",
              "      <td>0.0</td>\n",
              "      <td>0.0</td>\n",
              "      <td>0.0</td>\n",
              "      <td>0.0</td>\n",
              "      <td>1.0</td>\n",
              "      <td>1.0</td>\n",
              "      <td>0.0</td>\n",
              "      <td>0.0</td>\n",
              "      <td>0.0</td>\n",
              "      <td>0.0</td>\n",
              "      <td>0.0</td>\n",
              "      <td>1.0</td>\n",
              "      <td>3.0</td>\n",
              "      <td>1.0</td>\n",
              "      <td>2.0</td>\n",
              "      <td>2.0</td>\n",
              "      <td>1.0</td>\n",
              "      <td>2.0</td>\n",
              "      <td>55 - 64 Years</td>\n",
              "      <td>&lt; 12 Years</td>\n",
              "      <td>White</td>\n",
              "      <td>Female</td>\n",
              "      <td>Below Poverty</td>\n",
              "      <td>Not Married</td>\n",
              "      <td>Own</td>\n",
              "      <td>Not in Labor Force</td>\n",
              "      <td>oxchjgsf</td>\n",
              "      <td>Non-MSA</td>\n",
              "      <td>0.0</td>\n",
              "      <td>0.0</td>\n",
              "      <td>NaN</td>\n",
              "      <td>NaN</td>\n",
              "      <td>0</td>\n",
              "      <td>0</td>\n",
              "    </tr>\n",
              "    <tr>\n",
              "      <th>1</th>\n",
              "      <td>1</td>\n",
              "      <td>3.0</td>\n",
              "      <td>2.0</td>\n",
              "      <td>0.0</td>\n",
              "      <td>1.0</td>\n",
              "      <td>0.0</td>\n",
              "      <td>1.0</td>\n",
              "      <td>0.0</td>\n",
              "      <td>1.0</td>\n",
              "      <td>1.0</td>\n",
              "      <td>0.0</td>\n",
              "      <td>0.0</td>\n",
              "      <td>0.0</td>\n",
              "      <td>0.0</td>\n",
              "      <td>0.0</td>\n",
              "      <td>1.0</td>\n",
              "      <td>5.0</td>\n",
              "      <td>4.0</td>\n",
              "      <td>4.0</td>\n",
              "      <td>4.0</td>\n",
              "      <td>2.0</td>\n",
              "      <td>4.0</td>\n",
              "      <td>35 - 44 Years</td>\n",
              "      <td>12 Years</td>\n",
              "      <td>White</td>\n",
              "      <td>Male</td>\n",
              "      <td>Below Poverty</td>\n",
              "      <td>Not Married</td>\n",
              "      <td>Rent</td>\n",
              "      <td>Employed</td>\n",
              "      <td>bhuqouqj</td>\n",
              "      <td>MSA, Not Principle  City</td>\n",
              "      <td>0.0</td>\n",
              "      <td>0.0</td>\n",
              "      <td>pxcmvdjn</td>\n",
              "      <td>xgwztkwe</td>\n",
              "      <td>0</td>\n",
              "      <td>1</td>\n",
              "    </tr>\n",
              "    <tr>\n",
              "      <th>2</th>\n",
              "      <td>2</td>\n",
              "      <td>1.0</td>\n",
              "      <td>1.0</td>\n",
              "      <td>0.0</td>\n",
              "      <td>1.0</td>\n",
              "      <td>0.0</td>\n",
              "      <td>0.0</td>\n",
              "      <td>0.0</td>\n",
              "      <td>0.0</td>\n",
              "      <td>0.0</td>\n",
              "      <td>NaN</td>\n",
              "      <td>NaN</td>\n",
              "      <td>1.0</td>\n",
              "      <td>0.0</td>\n",
              "      <td>0.0</td>\n",
              "      <td>NaN</td>\n",
              "      <td>3.0</td>\n",
              "      <td>1.0</td>\n",
              "      <td>1.0</td>\n",
              "      <td>4.0</td>\n",
              "      <td>1.0</td>\n",
              "      <td>2.0</td>\n",
              "      <td>18 - 34 Years</td>\n",
              "      <td>College Graduate</td>\n",
              "      <td>White</td>\n",
              "      <td>Male</td>\n",
              "      <td>&lt;= $75,000, Above Poverty</td>\n",
              "      <td>Not Married</td>\n",
              "      <td>Own</td>\n",
              "      <td>Employed</td>\n",
              "      <td>qufhixun</td>\n",
              "      <td>MSA, Not Principle  City</td>\n",
              "      <td>2.0</td>\n",
              "      <td>0.0</td>\n",
              "      <td>rucpziij</td>\n",
              "      <td>xtkaffoo</td>\n",
              "      <td>0</td>\n",
              "      <td>0</td>\n",
              "    </tr>\n",
              "    <tr>\n",
              "      <th>3</th>\n",
              "      <td>3</td>\n",
              "      <td>1.0</td>\n",
              "      <td>1.0</td>\n",
              "      <td>0.0</td>\n",
              "      <td>1.0</td>\n",
              "      <td>0.0</td>\n",
              "      <td>1.0</td>\n",
              "      <td>1.0</td>\n",
              "      <td>0.0</td>\n",
              "      <td>0.0</td>\n",
              "      <td>0.0</td>\n",
              "      <td>1.0</td>\n",
              "      <td>1.0</td>\n",
              "      <td>0.0</td>\n",
              "      <td>0.0</td>\n",
              "      <td>NaN</td>\n",
              "      <td>3.0</td>\n",
              "      <td>3.0</td>\n",
              "      <td>5.0</td>\n",
              "      <td>5.0</td>\n",
              "      <td>4.0</td>\n",
              "      <td>1.0</td>\n",
              "      <td>65+ Years</td>\n",
              "      <td>12 Years</td>\n",
              "      <td>White</td>\n",
              "      <td>Female</td>\n",
              "      <td>Below Poverty</td>\n",
              "      <td>Not Married</td>\n",
              "      <td>Rent</td>\n",
              "      <td>Not in Labor Force</td>\n",
              "      <td>lrircsnp</td>\n",
              "      <td>MSA, Principle City</td>\n",
              "      <td>0.0</td>\n",
              "      <td>0.0</td>\n",
              "      <td>NaN</td>\n",
              "      <td>NaN</td>\n",
              "      <td>0</td>\n",
              "      <td>1</td>\n",
              "    </tr>\n",
              "    <tr>\n",
              "      <th>4</th>\n",
              "      <td>4</td>\n",
              "      <td>2.0</td>\n",
              "      <td>1.0</td>\n",
              "      <td>0.0</td>\n",
              "      <td>1.0</td>\n",
              "      <td>0.0</td>\n",
              "      <td>1.0</td>\n",
              "      <td>1.0</td>\n",
              "      <td>0.0</td>\n",
              "      <td>1.0</td>\n",
              "      <td>0.0</td>\n",
              "      <td>0.0</td>\n",
              "      <td>0.0</td>\n",
              "      <td>0.0</td>\n",
              "      <td>0.0</td>\n",
              "      <td>NaN</td>\n",
              "      <td>3.0</td>\n",
              "      <td>3.0</td>\n",
              "      <td>2.0</td>\n",
              "      <td>3.0</td>\n",
              "      <td>1.0</td>\n",
              "      <td>4.0</td>\n",
              "      <td>45 - 54 Years</td>\n",
              "      <td>Some College</td>\n",
              "      <td>White</td>\n",
              "      <td>Female</td>\n",
              "      <td>&lt;= $75,000, Above Poverty</td>\n",
              "      <td>Married</td>\n",
              "      <td>Own</td>\n",
              "      <td>Employed</td>\n",
              "      <td>qufhixun</td>\n",
              "      <td>MSA, Not Principle  City</td>\n",
              "      <td>1.0</td>\n",
              "      <td>0.0</td>\n",
              "      <td>wxleyezf</td>\n",
              "      <td>emcorrxb</td>\n",
              "      <td>0</td>\n",
              "      <td>0</td>\n",
              "    </tr>\n",
              "  </tbody>\n",
              "</table>\n",
              "</div>"
            ],
            "text/plain": [
              "   RESPONDENT_ID  H1N1_CONCERN  ...  H1N1_VACCINE  SEASONAL_VACCINE\n",
              "0              0           1.0  ...             0                 0\n",
              "1              1           3.0  ...             0                 1\n",
              "2              2           1.0  ...             0                 0\n",
              "3              3           1.0  ...             0                 1\n",
              "4              4           2.0  ...             0                 0\n",
              "\n",
              "[5 rows x 38 columns]"
            ]
          },
          "metadata": {
            "tags": []
          },
          "execution_count": 2
        }
      ]
    },
    {
      "cell_type": "code",
      "metadata": {
        "id": "jmF86TVjndvE",
        "colab": {
          "base_uri": "https://localhost:8080/",
          "height": 447
        },
        "outputId": "118c5072-ece0-45d7-998b-f90f2c92750f"
      },
      "source": [
        "#dataset = dataset.replace(to_replace =\"?\", value=np.nan) \n",
        "dataset = dataset.replace(to_replace =\"\\t?\", value=np.nan) \n",
        "sns.heatmap(data=dataset.isnull())"
      ],
      "execution_count": null,
      "outputs": [
        {
          "output_type": "execute_result",
          "data": {
            "text/plain": [
              "<matplotlib.axes._subplots.AxesSubplot at 0x7f4cd2591f50>"
            ]
          },
          "metadata": {
            "tags": []
          },
          "execution_count": 3
        },
        {
          "output_type": "display_data",
          "data": {
            "image/png": "[encoded data removed]",
            "text/plain": [
              "<Figure size 432x288 with 2 Axes>"
            ]
          },
          "metadata": {
            "tags": [],
            "needs_background": "light"
          }
        }
      ]
    },
    {
      "cell_type": "code",
      "metadata": {
        "id": "rPXC4_bh9RYh",
        "colab": {
          "base_uri": "https://localhost:8080/"
        },
        "outputId": "159d1875-675d-4a7f-ef78-ed73a0c6be90"
      },
      "source": [
        "np.shape(dataset)"
      ],
      "execution_count": null,
      "outputs": [
        {
          "output_type": "execute_result",
          "data": {
            "text/plain": [
              "(26707, 38)"
            ]
          },
          "metadata": {
            "tags": []
          },
          "execution_count": 4
        }
      ]
    },
    {
      "cell_type": "code",
      "metadata": {
        "id": "RkIG0r8T9MWs",
        "colab": {
          "base_uri": "https://localhost:8080/"
        },
        "outputId": "c372ca9c-1fa5-4b68-d96f-6f91e694dd70"
      },
      "source": [
        "dataset.isnull().sum()/267.07"
      ],
      "execution_count": null,
      "outputs": [
        {
          "output_type": "execute_result",
          "data": {
            "text/plain": [
              "RESPONDENT_ID                   0.000000\n",
              "H1N1_CONCERN                    0.344479\n",
              "H1N1_KNOWLEDGE                  0.434343\n",
              "BEHAVIORAL_ANTIVIRAL_MEDS       0.265848\n",
              "BEHAVIORAL_AVOIDANCE            0.778822\n",
              "BEHAVIORAL_FACE_MASK            0.071142\n",
              "BEHAVIORAL_WASH_HANDS           0.157262\n",
              "BEHAVIORAL_LARGE_GATHERINGS     0.325757\n",
              "BEHAVIORAL_OUTSIDE_HOME         0.307036\n",
              "BEHAVIORAL_TOUCH_FACE           0.479275\n",
              "DOCTOR_RECC_H1N1                8.087767\n",
              "DOCTOR_RECC_SEASONAL            8.087767\n",
              "CHRONIC_MED_CONDITION           3.635751\n",
              "CHILD_UNDER_6_MONTHS            3.070356\n",
              "HEALTH_WORKER                   3.010447\n",
              "HEALTH_INSURANCE               45.957989\n",
              "OPINION_H1N1_VACC_EFFECTIVE     1.464036\n",
              "OPINION_H1N1_RISK               1.452803\n",
              "OPINION_H1N1_SICK_FROM_VACC     1.479013\n",
              "OPINION_SEAS_VACC_EFFECTIVE     1.729884\n",
              "OPINION_SEAS_RISK               1.924589\n",
              "OPINION_SEAS_SICK_FROM_VACC     2.010709\n",
              "AGE_GROUP                       0.000000\n",
              "EDUCATION                       5.268282\n",
              "RACE                            0.000000\n",
              "SEX                             0.000000\n",
              "INCOME_POVERTY                 16.561201\n",
              "MARITAL_STATUS                  5.272026\n",
              "RENT_OR_OWN                     7.645936\n",
              "EMPLOYMENT_STATUS               5.477965\n",
              "HHS_GEO_REGION                  0.000000\n",
              "CENSUS_MSA                      0.000000\n",
              "HOUSEHOLD_ADULTS                0.932340\n",
              "HOUSEHOLD_CHILDREN              0.932340\n",
              "EMPLOYMENT_INDUSTRY            49.912008\n",
              "EMPLOYMENT_OCCUPATION          50.436215\n",
              "H1N1_VACCINE                    0.000000\n",
              "SEASONAL_VACCINE                0.000000\n",
              "dtype: float64"
            ]
          },
          "metadata": {
            "tags": []
          },
          "execution_count": 5
        }
      ]
    },
    {
      "cell_type": "code",
      "metadata": {
        "id": "x0568CWRmbiI",
        "colab": {
          "base_uri": "https://localhost:8080/",
          "height": 289
        },
        "outputId": "bd6d1e89-f701-40a5-a22e-2b2a7b4b5000"
      },
      "source": [
        "nulls = dataset.isnull().sum()/267.07\n",
        "dataset.columns\n",
        "plt.bar(x=dataset.columns, height=nulls, label='1')\n",
        "plt.ylim((0, 100))   # set the ylim to bottom, top"
      ],
      "execution_count": null,
      "outputs": [
        {
          "output_type": "execute_result",
          "data": {
            "text/plain": [
              "(0.0, 100.0)"
            ]
          },
          "metadata": {
            "tags": []
          },
          "execution_count": 6
        },
        {
          "output_type": "display_data",
          "data": {
            "image/png": "[encoded data removed]",
            "text/plain": [
              "<Figure size 432x288 with 1 Axes>"
            ]
          },
          "metadata": {
            "tags": [],
            "needs_background": "light"
          }
        }
      ]
    },
    {
      "cell_type": "code",
      "metadata": {
        "id": "PRWZd4RJjX6f"
      },
      "source": [
        "from sklearn.impute import KNNImputer"
      ],
      "execution_count": null,
      "outputs": []
    },
    {
      "cell_type": "markdown",
      "metadata": {
        "id": "on1nYKLpqZYt"
      },
      "source": [
        "KNN Imputer does not recognize text data values. It will generate errors if we do not change these values to numerical values. For example, categorical columns ‘rbc’ 'pcc' 'ba' 'htn 'dm' 'cad' 'appet' 'pe' 'ane' and ‘pc’ have text data.\n",
        "\n",
        "to modify the text data is to perform one-hot encoding or create “dummy variables”. The idea is to convert each category into a binary data column by assigning a 1 or 0. Other options would be to use LabelEncoder or OrdinalEncoder from Scikit-Learn’s preprocessing package."
      ]
    },
    {
      "cell_type": "code",
      "metadata": {
        "id": "Wmt1K8s4FVql",
        "colab": {
          "base_uri": "https://localhost:8080/",
          "height": 313
        },
        "outputId": "c9941a82-6c12-4065-a244-05e0707e0094"
      },
      "source": [
        "dataset.head()"
      ],
      "execution_count": null,
      "outputs": [
        {
          "output_type": "execute_result",
          "data": {
            "text/html": [
              "<div>\n",
              "<style scoped>\n",
              "    .dataframe tbody tr th:only-of-type {\n",
              "        vertical-align: middle;\n",
              "    }\n",
              "\n",
              "    .dataframe tbody tr th {\n",
              "        vertical-align: top;\n",
              "    }\n",
              "\n",
              "    .dataframe thead th {\n",
              "        text-align: right;\n",
              "    }\n",
              "</style>\n",
              "<table border=\"1\" class=\"dataframe\">\n",
              "  <thead>\n",
              "    <tr style=\"text-align: right;\">\n",
              "      <th></th>\n",
              "      <th>RESPONDENT_ID</th>\n",
              "      <th>H1N1_CONCERN</th>\n",
              "      <th>H1N1_KNOWLEDGE</th>\n",
              "      <th>BEHAVIORAL_ANTIVIRAL_MEDS</th>\n",
              "      <th>BEHAVIORAL_AVOIDANCE</th>\n",
              "      <th>BEHAVIORAL_FACE_MASK</th>\n",
              "      <th>BEHAVIORAL_WASH_HANDS</th>\n",
              "      <th>BEHAVIORAL_LARGE_GATHERINGS</th>\n",
              "      <th>BEHAVIORAL_OUTSIDE_HOME</th>\n",
              "      <th>BEHAVIORAL_TOUCH_FACE</th>\n",
              "      <th>DOCTOR_RECC_H1N1</th>\n",
              "      <th>DOCTOR_RECC_SEASONAL</th>\n",
              "      <th>CHRONIC_MED_CONDITION</th>\n",
              "      <th>CHILD_UNDER_6_MONTHS</th>\n",
              "      <th>HEALTH_WORKER</th>\n",
              "      <th>HEALTH_INSURANCE</th>\n",
              "      <th>OPINION_H1N1_VACC_EFFECTIVE</th>\n",
              "      <th>OPINION_H1N1_RISK</th>\n",
              "      <th>OPINION_H1N1_SICK_FROM_VACC</th>\n",
              "      <th>OPINION_SEAS_VACC_EFFECTIVE</th>\n",
              "      <th>OPINION_SEAS_RISK</th>\n",
              "      <th>OPINION_SEAS_SICK_FROM_VACC</th>\n",
              "      <th>AGE_GROUP</th>\n",
              "      <th>EDUCATION</th>\n",
              "      <th>RACE</th>\n",
              "      <th>SEX</th>\n",
              "      <th>INCOME_POVERTY</th>\n",
              "      <th>MARITAL_STATUS</th>\n",
              "      <th>RENT_OR_OWN</th>\n",
              "      <th>EMPLOYMENT_STATUS</th>\n",
              "      <th>HHS_GEO_REGION</th>\n",
              "      <th>CENSUS_MSA</th>\n",
              "      <th>HOUSEHOLD_ADULTS</th>\n",
              "      <th>HOUSEHOLD_CHILDREN</th>\n",
              "      <th>EMPLOYMENT_INDUSTRY</th>\n",
              "      <th>EMPLOYMENT_OCCUPATION</th>\n",
              "      <th>H1N1_VACCINE</th>\n",
              "      <th>SEASONAL_VACCINE</th>\n",
              "    </tr>\n",
              "  </thead>\n",
              "  <tbody>\n",
              "    <tr>\n",
              "      <th>0</th>\n",
              "      <td>0</td>\n",
              "      <td>1.0</td>\n",
              "      <td>0.0</td>\n",
              "      <td>0.0</td>\n",
              "      <td>0.0</td>\n",
              "      <td>0.0</td>\n",
              "      <td>0.0</td>\n",
              "      <td>0.0</td>\n",
              "      <td>1.0</td>\n",
              "      <td>1.0</td>\n",
              "      <td>0.0</td>\n",
              "      <td>0.0</td>\n",
              "      <td>0.0</td>\n",
              "      <td>0.0</td>\n",
              "      <td>0.0</td>\n",
              "      <td>1.0</td>\n",
              "      <td>3.0</td>\n",
              "      <td>1.0</td>\n",
              "      <td>2.0</td>\n",
              "      <td>2.0</td>\n",
              "      <td>1.0</td>\n",
              "      <td>2.0</td>\n",
              "      <td>55 - 64 Years</td>\n",
              "      <td>&lt; 12 Years</td>\n",
              "      <td>White</td>\n",
              "      <td>Female</td>\n",
              "      <td>Below Poverty</td>\n",
              "      <td>Not Married</td>\n",
              "      <td>Own</td>\n",
              "      <td>Not in Labor Force</td>\n",
              "      <td>oxchjgsf</td>\n",
              "      <td>Non-MSA</td>\n",
              "      <td>0.0</td>\n",
              "      <td>0.0</td>\n",
              "      <td>NaN</td>\n",
              "      <td>NaN</td>\n",
              "      <td>0</td>\n",
              "      <td>0</td>\n",
              "    </tr>\n",
              "    <tr>\n",
              "      <th>1</th>\n",
              "      <td>1</td>\n",
              "      <td>3.0</td>\n",
              "      <td>2.0</td>\n",
              "      <td>0.0</td>\n",
              "      <td>1.0</td>\n",
              "      <td>0.0</td>\n",
              "      <td>1.0</td>\n",
              "      <td>0.0</td>\n",
              "      <td>1.0</td>\n",
              "      <td>1.0</td>\n",
              "      <td>0.0</td>\n",
              "      <td>0.0</td>\n",
              "      <td>0.0</td>\n",
              "      <td>0.0</td>\n",
              "      <td>0.0</td>\n",
              "      <td>1.0</td>\n",
              "      <td>5.0</td>\n",
              "      <td>4.0</td>\n",
              "      <td>4.0</td>\n",
              "      <td>4.0</td>\n",
              "      <td>2.0</td>\n",
              "      <td>4.0</td>\n",
              "      <td>35 - 44 Years</td>\n",
              "      <td>12 Years</td>\n",
              "      <td>White</td>\n",
              "      <td>Male</td>\n",
              "      <td>Below Poverty</td>\n",
              "      <td>Not Married</td>\n",
              "      <td>Rent</td>\n",
              "      <td>Employed</td>\n",
              "      <td>bhuqouqj</td>\n",
              "      <td>MSA, Not Principle  City</td>\n",
              "      <td>0.0</td>\n",
              "      <td>0.0</td>\n",
              "      <td>pxcmvdjn</td>\n",
              "      <td>xgwztkwe</td>\n",
              "      <td>0</td>\n",
              "      <td>1</td>\n",
              "    </tr>\n",
              "    <tr>\n",
              "      <th>2</th>\n",
              "      <td>2</td>\n",
              "      <td>1.0</td>\n",
              "      <td>1.0</td>\n",
              "      <td>0.0</td>\n",
              "      <td>1.0</td>\n",
              "      <td>0.0</td>\n",
              "      <td>0.0</td>\n",
              "      <td>0.0</td>\n",
              "      <td>0.0</td>\n",
              "      <td>0.0</td>\n",
              "      <td>NaN</td>\n",
              "      <td>NaN</td>\n",
              "      <td>1.0</td>\n",
              "      <td>0.0</td>\n",
              "      <td>0.0</td>\n",
              "      <td>NaN</td>\n",
              "      <td>3.0</td>\n",
              "      <td>1.0</td>\n",
              "      <td>1.0</td>\n",
              "      <td>4.0</td>\n",
              "      <td>1.0</td>\n",
              "      <td>2.0</td>\n",
              "      <td>18 - 34 Years</td>\n",
              "      <td>College Graduate</td>\n",
              "      <td>White</td>\n",
              "      <td>Male</td>\n",
              "      <td>&lt;= $75,000, Above Poverty</td>\n",
              "      <td>Not Married</td>\n",
              "      <td>Own</td>\n",
              "      <td>Employed</td>\n",
              "      <td>qufhixun</td>\n",
              "      <td>MSA, Not Principle  City</td>\n",
              "      <td>2.0</td>\n",
              "      <td>0.0</td>\n",
              "      <td>rucpziij</td>\n",
              "      <td>xtkaffoo</td>\n",
              "      <td>0</td>\n",
              "      <td>0</td>\n",
              "    </tr>\n",
              "    <tr>\n",
              "      <th>3</th>\n",
              "      <td>3</td>\n",
              "      <td>1.0</td>\n",
              "      <td>1.0</td>\n",
              "      <td>0.0</td>\n",
              "      <td>1.0</td>\n",
              "      <td>0.0</td>\n",
              "      <td>1.0</td>\n",
              "      <td>1.0</td>\n",
              "      <td>0.0</td>\n",
              "      <td>0.0</td>\n",
              "      <td>0.0</td>\n",
              "      <td>1.0</td>\n",
              "      <td>1.0</td>\n",
              "      <td>0.0</td>\n",
              "      <td>0.0</td>\n",
              "      <td>NaN</td>\n",
              "      <td>3.0</td>\n",
              "      <td>3.0</td>\n",
              "      <td>5.0</td>\n",
              "      <td>5.0</td>\n",
              "      <td>4.0</td>\n",
              "      <td>1.0</td>\n",
              "      <td>65+ Years</td>\n",
              "      <td>12 Years</td>\n",
              "      <td>White</td>\n",
              "      <td>Female</td>\n",
              "      <td>Below Poverty</td>\n",
              "      <td>Not Married</td>\n",
              "      <td>Rent</td>\n",
              "      <td>Not in Labor Force</td>\n",
              "      <td>lrircsnp</td>\n",
              "      <td>MSA, Principle City</td>\n",
              "      <td>0.0</td>\n",
              "      <td>0.0</td>\n",
              "      <td>NaN</td>\n",
              "      <td>NaN</td>\n",
              "      <td>0</td>\n",
              "      <td>1</td>\n",
              "    </tr>\n",
              "    <tr>\n",
              "      <th>4</th>\n",
              "      <td>4</td>\n",
              "      <td>2.0</td>\n",
              "      <td>1.0</td>\n",
              "      <td>0.0</td>\n",
              "      <td>1.0</td>\n",
              "      <td>0.0</td>\n",
              "      <td>1.0</td>\n",
              "      <td>1.0</td>\n",
              "      <td>0.0</td>\n",
              "      <td>1.0</td>\n",
              "      <td>0.0</td>\n",
              "      <td>0.0</td>\n",
              "      <td>0.0</td>\n",
              "      <td>0.0</td>\n",
              "      <td>0.0</td>\n",
              "      <td>NaN</td>\n",
              "      <td>3.0</td>\n",
              "      <td>3.0</td>\n",
              "      <td>2.0</td>\n",
              "      <td>3.0</td>\n",
              "      <td>1.0</td>\n",
              "      <td>4.0</td>\n",
              "      <td>45 - 54 Years</td>\n",
              "      <td>Some College</td>\n",
              "      <td>White</td>\n",
              "      <td>Female</td>\n",
              "      <td>&lt;= $75,000, Above Poverty</td>\n",
              "      <td>Married</td>\n",
              "      <td>Own</td>\n",
              "      <td>Employed</td>\n",
              "      <td>qufhixun</td>\n",
              "      <td>MSA, Not Principle  City</td>\n",
              "      <td>1.0</td>\n",
              "      <td>0.0</td>\n",
              "      <td>wxleyezf</td>\n",
              "      <td>emcorrxb</td>\n",
              "      <td>0</td>\n",
              "      <td>0</td>\n",
              "    </tr>\n",
              "  </tbody>\n",
              "</table>\n",
              "</div>"
            ],
            "text/plain": [
              "   RESPONDENT_ID  H1N1_CONCERN  ...  H1N1_VACCINE  SEASONAL_VACCINE\n",
              "0              0           1.0  ...             0                 0\n",
              "1              1           3.0  ...             0                 1\n",
              "2              2           1.0  ...             0                 0\n",
              "3              3           1.0  ...             0                 1\n",
              "4              4           2.0  ...             0                 0\n",
              "\n",
              "[5 rows x 38 columns]"
            ]
          },
          "metadata": {
            "tags": []
          },
          "execution_count": 8
        }
      ]
    },
    {
      "cell_type": "code",
      "metadata": {
        "id": "blDv2HqnnKUN",
        "colab": {
          "base_uri": "https://localhost:8080/",
          "height": 226
        },
        "outputId": "033d2d32-7d16-4bba-c260-197805de9593"
      },
      "source": [
        "from sklearn.preprocessing import LabelEncoder\n",
        "\n",
        "str_cols = dataset.select_dtypes(include = 'object').columns\n",
        "\n",
        "LE = LabelEncoder()\n",
        "for col in str_cols:\n",
        "    dataset[col] = LE.fit_transform(dataset[col].astype(str)) # Converts to int64\n",
        "\n",
        "dataset.head()"
      ],
      "execution_count": null,
      "outputs": [
        {
          "output_type": "execute_result",
          "data": {
            "text/html": [
              "<div>\n",
              "<style scoped>\n",
              "    .dataframe tbody tr th:only-of-type {\n",
              "        vertical-align: middle;\n",
              "    }\n",
              "\n",
              "    .dataframe tbody tr th {\n",
              "        vertical-align: top;\n",
              "    }\n",
              "\n",
              "    .dataframe thead th {\n",
              "        text-align: right;\n",
              "    }\n",
              "</style>\n",
              "<table border=\"1\" class=\"dataframe\">\n",
              "  <thead>\n",
              "    <tr style=\"text-align: right;\">\n",
              "      <th></th>\n",
              "      <th>RESPONDENT_ID</th>\n",
              "      <th>H1N1_CONCERN</th>\n",
              "      <th>H1N1_KNOWLEDGE</th>\n",
              "      <th>BEHAVIORAL_ANTIVIRAL_MEDS</th>\n",
              "      <th>BEHAVIORAL_AVOIDANCE</th>\n",
              "      <th>BEHAVIORAL_FACE_MASK</th>\n",
              "      <th>BEHAVIORAL_WASH_HANDS</th>\n",
              "      <th>BEHAVIORAL_LARGE_GATHERINGS</th>\n",
              "      <th>BEHAVIORAL_OUTSIDE_HOME</th>\n",
              "      <th>BEHAVIORAL_TOUCH_FACE</th>\n",
              "      <th>DOCTOR_RECC_H1N1</th>\n",
              "      <th>DOCTOR_RECC_SEASONAL</th>\n",
              "      <th>CHRONIC_MED_CONDITION</th>\n",
              "      <th>CHILD_UNDER_6_MONTHS</th>\n",
              "      <th>HEALTH_WORKER</th>\n",
              "      <th>HEALTH_INSURANCE</th>\n",
              "      <th>OPINION_H1N1_VACC_EFFECTIVE</th>\n",
              "      <th>OPINION_H1N1_RISK</th>\n",
              "      <th>OPINION_H1N1_SICK_FROM_VACC</th>\n",
              "      <th>OPINION_SEAS_VACC_EFFECTIVE</th>\n",
              "      <th>OPINION_SEAS_RISK</th>\n",
              "      <th>OPINION_SEAS_SICK_FROM_VACC</th>\n",
              "      <th>AGE_GROUP</th>\n",
              "      <th>EDUCATION</th>\n",
              "      <th>RACE</th>\n",
              "      <th>SEX</th>\n",
              "      <th>INCOME_POVERTY</th>\n",
              "      <th>MARITAL_STATUS</th>\n",
              "      <th>RENT_OR_OWN</th>\n",
              "      <th>EMPLOYMENT_STATUS</th>\n",
              "      <th>HHS_GEO_REGION</th>\n",
              "      <th>CENSUS_MSA</th>\n",
              "      <th>HOUSEHOLD_ADULTS</th>\n",
              "      <th>HOUSEHOLD_CHILDREN</th>\n",
              "      <th>EMPLOYMENT_INDUSTRY</th>\n",
              "      <th>EMPLOYMENT_OCCUPATION</th>\n",
              "      <th>H1N1_VACCINE</th>\n",
              "      <th>SEASONAL_VACCINE</th>\n",
              "    </tr>\n",
              "  </thead>\n",
              "  <tbody>\n",
              "    <tr>\n",
              "      <th>0</th>\n",
              "      <td>0</td>\n",
              "      <td>1.0</td>\n",
              "      <td>0.0</td>\n",
              "      <td>0.0</td>\n",
              "      <td>0.0</td>\n",
              "      <td>0.0</td>\n",
              "      <td>0.0</td>\n",
              "      <td>0.0</td>\n",
              "      <td>1.0</td>\n",
              "      <td>1.0</td>\n",
              "      <td>0.0</td>\n",
              "      <td>0.0</td>\n",
              "      <td>0.0</td>\n",
              "      <td>0.0</td>\n",
              "      <td>0.0</td>\n",
              "      <td>1.0</td>\n",
              "      <td>3.0</td>\n",
              "      <td>1.0</td>\n",
              "      <td>2.0</td>\n",
              "      <td>2.0</td>\n",
              "      <td>1.0</td>\n",
              "      <td>2.0</td>\n",
              "      <td>3</td>\n",
              "      <td>1</td>\n",
              "      <td>3</td>\n",
              "      <td>0</td>\n",
              "      <td>2</td>\n",
              "      <td>1</td>\n",
              "      <td>0</td>\n",
              "      <td>1</td>\n",
              "      <td>8</td>\n",
              "      <td>2</td>\n",
              "      <td>0.0</td>\n",
              "      <td>0.0</td>\n",
              "      <td>10</td>\n",
              "      <td>11</td>\n",
              "      <td>0</td>\n",
              "      <td>0</td>\n",
              "    </tr>\n",
              "    <tr>\n",
              "      <th>1</th>\n",
              "      <td>1</td>\n",
              "      <td>3.0</td>\n",
              "      <td>2.0</td>\n",
              "      <td>0.0</td>\n",
              "      <td>1.0</td>\n",
              "      <td>0.0</td>\n",
              "      <td>1.0</td>\n",
              "      <td>0.0</td>\n",
              "      <td>1.0</td>\n",
              "      <td>1.0</td>\n",
              "      <td>0.0</td>\n",
              "      <td>0.0</td>\n",
              "      <td>0.0</td>\n",
              "      <td>0.0</td>\n",
              "      <td>0.0</td>\n",
              "      <td>1.0</td>\n",
              "      <td>5.0</td>\n",
              "      <td>4.0</td>\n",
              "      <td>4.0</td>\n",
              "      <td>4.0</td>\n",
              "      <td>2.0</td>\n",
              "      <td>4.0</td>\n",
              "      <td>1</td>\n",
              "      <td>0</td>\n",
              "      <td>3</td>\n",
              "      <td>1</td>\n",
              "      <td>2</td>\n",
              "      <td>1</td>\n",
              "      <td>1</td>\n",
              "      <td>0</td>\n",
              "      <td>1</td>\n",
              "      <td>0</td>\n",
              "      <td>0.0</td>\n",
              "      <td>0.0</td>\n",
              "      <td>13</td>\n",
              "      <td>20</td>\n",
              "      <td>0</td>\n",
              "      <td>1</td>\n",
              "    </tr>\n",
              "    <tr>\n",
              "      <th>2</th>\n",
              "      <td>2</td>\n",
              "      <td>1.0</td>\n",
              "      <td>1.0</td>\n",
              "      <td>0.0</td>\n",
              "      <td>1.0</td>\n",
              "      <td>0.0</td>\n",
              "      <td>0.0</td>\n",
              "      <td>0.0</td>\n",
              "      <td>0.0</td>\n",
              "      <td>0.0</td>\n",
              "      <td>NaN</td>\n",
              "      <td>NaN</td>\n",
              "      <td>1.0</td>\n",
              "      <td>0.0</td>\n",
              "      <td>0.0</td>\n",
              "      <td>NaN</td>\n",
              "      <td>3.0</td>\n",
              "      <td>1.0</td>\n",
              "      <td>1.0</td>\n",
              "      <td>4.0</td>\n",
              "      <td>1.0</td>\n",
              "      <td>2.0</td>\n",
              "      <td>0</td>\n",
              "      <td>2</td>\n",
              "      <td>3</td>\n",
              "      <td>1</td>\n",
              "      <td>0</td>\n",
              "      <td>1</td>\n",
              "      <td>0</td>\n",
              "      <td>0</td>\n",
              "      <td>9</td>\n",
              "      <td>0</td>\n",
              "      <td>2.0</td>\n",
              "      <td>0.0</td>\n",
              "      <td>15</td>\n",
              "      <td>22</td>\n",
              "      <td>0</td>\n",
              "      <td>0</td>\n",
              "    </tr>\n",
              "    <tr>\n",
              "      <th>3</th>\n",
              "      <td>3</td>\n",
              "      <td>1.0</td>\n",
              "      <td>1.0</td>\n",
              "      <td>0.0</td>\n",
              "      <td>1.0</td>\n",
              "      <td>0.0</td>\n",
              "      <td>1.0</td>\n",
              "      <td>1.0</td>\n",
              "      <td>0.0</td>\n",
              "      <td>0.0</td>\n",
              "      <td>0.0</td>\n",
              "      <td>1.0</td>\n",
              "      <td>1.0</td>\n",
              "      <td>0.0</td>\n",
              "      <td>0.0</td>\n",
              "      <td>NaN</td>\n",
              "      <td>3.0</td>\n",
              "      <td>3.0</td>\n",
              "      <td>5.0</td>\n",
              "      <td>5.0</td>\n",
              "      <td>4.0</td>\n",
              "      <td>1.0</td>\n",
              "      <td>4</td>\n",
              "      <td>0</td>\n",
              "      <td>3</td>\n",
              "      <td>0</td>\n",
              "      <td>2</td>\n",
              "      <td>1</td>\n",
              "      <td>1</td>\n",
              "      <td>1</td>\n",
              "      <td>5</td>\n",
              "      <td>1</td>\n",
              "      <td>0.0</td>\n",
              "      <td>0.0</td>\n",
              "      <td>10</td>\n",
              "      <td>11</td>\n",
              "      <td>0</td>\n",
              "      <td>1</td>\n",
              "    </tr>\n",
              "    <tr>\n",
              "      <th>4</th>\n",
              "      <td>4</td>\n",
              "      <td>2.0</td>\n",
              "      <td>1.0</td>\n",
              "      <td>0.0</td>\n",
              "      <td>1.0</td>\n",
              "      <td>0.0</td>\n",
              "      <td>1.0</td>\n",
              "      <td>1.0</td>\n",
              "      <td>0.0</td>\n",
              "      <td>1.0</td>\n",
              "      <td>0.0</td>\n",
              "      <td>0.0</td>\n",
              "      <td>0.0</td>\n",
              "      <td>0.0</td>\n",
              "      <td>0.0</td>\n",
              "      <td>NaN</td>\n",
              "      <td>3.0</td>\n",
              "      <td>3.0</td>\n",
              "      <td>2.0</td>\n",
              "      <td>3.0</td>\n",
              "      <td>1.0</td>\n",
              "      <td>4.0</td>\n",
              "      <td>2</td>\n",
              "      <td>3</td>\n",
              "      <td>3</td>\n",
              "      <td>0</td>\n",
              "      <td>0</td>\n",
              "      <td>0</td>\n",
              "      <td>0</td>\n",
              "      <td>0</td>\n",
              "      <td>9</td>\n",
              "      <td>0</td>\n",
              "      <td>1.0</td>\n",
              "      <td>0.0</td>\n",
              "      <td>19</td>\n",
              "      <td>5</td>\n",
              "      <td>0</td>\n",
              "      <td>0</td>\n",
              "    </tr>\n",
              "  </tbody>\n",
              "</table>\n",
              "</div>"
            ],
            "text/plain": [
              "   RESPONDENT_ID  H1N1_CONCERN  ...  H1N1_VACCINE  SEASONAL_VACCINE\n",
              "0              0           1.0  ...             0                 0\n",
              "1              1           3.0  ...             0                 1\n",
              "2              2           1.0  ...             0                 0\n",
              "3              3           1.0  ...             0                 1\n",
              "4              4           2.0  ...             0                 0\n",
              "\n",
              "[5 rows x 38 columns]"
            ]
          },
          "metadata": {
            "tags": []
          },
          "execution_count": 9
        }
      ]
    },
    {
      "cell_type": "code",
      "metadata": {
        "id": "hhtYW4hPwY_G"
      },
      "source": [
        ""
      ],
      "execution_count": null,
      "outputs": []
    },
    {
      "cell_type": "code",
      "metadata": {
        "id": "GJW3raIztIAZ",
        "colab": {
          "base_uri": "https://localhost:8080/",
          "height": 226
        },
        "outputId": "8d1d87c7-c8da-4d7a-d2d9-737c354c0db9"
      },
      "source": [
        "from sklearn.preprocessing import MinMaxScaler\n",
        "scaler = MinMaxScaler()\n",
        "dataset = pd.DataFrame(scaler.fit_transform(dataset), columns = dataset.columns)\n",
        "dataset.head()"
      ],
      "execution_count": null,
      "outputs": [
        {
          "output_type": "execute_result",
          "data": {
            "text/html": [
              "<div>\n",
              "<style scoped>\n",
              "    .dataframe tbody tr th:only-of-type {\n",
              "        vertical-align: middle;\n",
              "    }\n",
              "\n",
              "    .dataframe tbody tr th {\n",
              "        vertical-align: top;\n",
              "    }\n",
              "\n",
              "    .dataframe thead th {\n",
              "        text-align: right;\n",
              "    }\n",
              "</style>\n",
              "<table border=\"1\" class=\"dataframe\">\n",
              "  <thead>\n",
              "    <tr style=\"text-align: right;\">\n",
              "      <th></th>\n",
              "      <th>RESPONDENT_ID</th>\n",
              "      <th>H1N1_CONCERN</th>\n",
              "      <th>H1N1_KNOWLEDGE</th>\n",
              "      <th>BEHAVIORAL_ANTIVIRAL_MEDS</th>\n",
              "      <th>BEHAVIORAL_AVOIDANCE</th>\n",
              "      <th>BEHAVIORAL_FACE_MASK</th>\n",
              "      <th>BEHAVIORAL_WASH_HANDS</th>\n",
              "      <th>BEHAVIORAL_LARGE_GATHERINGS</th>\n",
              "      <th>BEHAVIORAL_OUTSIDE_HOME</th>\n",
              "      <th>BEHAVIORAL_TOUCH_FACE</th>\n",
              "      <th>DOCTOR_RECC_H1N1</th>\n",
              "      <th>DOCTOR_RECC_SEASONAL</th>\n",
              "      <th>CHRONIC_MED_CONDITION</th>\n",
              "      <th>CHILD_UNDER_6_MONTHS</th>\n",
              "      <th>HEALTH_WORKER</th>\n",
              "      <th>HEALTH_INSURANCE</th>\n",
              "      <th>OPINION_H1N1_VACC_EFFECTIVE</th>\n",
              "      <th>OPINION_H1N1_RISK</th>\n",
              "      <th>OPINION_H1N1_SICK_FROM_VACC</th>\n",
              "      <th>OPINION_SEAS_VACC_EFFECTIVE</th>\n",
              "      <th>OPINION_SEAS_RISK</th>\n",
              "      <th>OPINION_SEAS_SICK_FROM_VACC</th>\n",
              "      <th>AGE_GROUP</th>\n",
              "      <th>EDUCATION</th>\n",
              "      <th>RACE</th>\n",
              "      <th>SEX</th>\n",
              "      <th>INCOME_POVERTY</th>\n",
              "      <th>MARITAL_STATUS</th>\n",
              "      <th>RENT_OR_OWN</th>\n",
              "      <th>EMPLOYMENT_STATUS</th>\n",
              "      <th>HHS_GEO_REGION</th>\n",
              "      <th>CENSUS_MSA</th>\n",
              "      <th>HOUSEHOLD_ADULTS</th>\n",
              "      <th>HOUSEHOLD_CHILDREN</th>\n",
              "      <th>EMPLOYMENT_INDUSTRY</th>\n",
              "      <th>EMPLOYMENT_OCCUPATION</th>\n",
              "      <th>H1N1_VACCINE</th>\n",
              "      <th>SEASONAL_VACCINE</th>\n",
              "    </tr>\n",
              "  </thead>\n",
              "  <tbody>\n",
              "    <tr>\n",
              "      <th>0</th>\n",
              "      <td>0.000000</td>\n",
              "      <td>0.333333</td>\n",
              "      <td>0.0</td>\n",
              "      <td>0.0</td>\n",
              "      <td>0.0</td>\n",
              "      <td>0.0</td>\n",
              "      <td>0.0</td>\n",
              "      <td>0.0</td>\n",
              "      <td>1.0</td>\n",
              "      <td>1.0</td>\n",
              "      <td>0.0</td>\n",
              "      <td>0.0</td>\n",
              "      <td>0.0</td>\n",
              "      <td>0.0</td>\n",
              "      <td>0.0</td>\n",
              "      <td>1.0</td>\n",
              "      <td>0.5</td>\n",
              "      <td>0.00</td>\n",
              "      <td>0.25</td>\n",
              "      <td>0.25</td>\n",
              "      <td>0.00</td>\n",
              "      <td>0.25</td>\n",
              "      <td>0.75</td>\n",
              "      <td>0.25</td>\n",
              "      <td>1.0</td>\n",
              "      <td>0.0</td>\n",
              "      <td>0.666667</td>\n",
              "      <td>0.5</td>\n",
              "      <td>0.0</td>\n",
              "      <td>0.333333</td>\n",
              "      <td>0.888889</td>\n",
              "      <td>1.0</td>\n",
              "      <td>0.000000</td>\n",
              "      <td>0.0</td>\n",
              "      <td>0.476190</td>\n",
              "      <td>0.478261</td>\n",
              "      <td>0.0</td>\n",
              "      <td>0.0</td>\n",
              "    </tr>\n",
              "    <tr>\n",
              "      <th>1</th>\n",
              "      <td>0.000037</td>\n",
              "      <td>1.000000</td>\n",
              "      <td>1.0</td>\n",
              "      <td>0.0</td>\n",
              "      <td>1.0</td>\n",
              "      <td>0.0</td>\n",
              "      <td>1.0</td>\n",
              "      <td>0.0</td>\n",
              "      <td>1.0</td>\n",
              "      <td>1.0</td>\n",
              "      <td>0.0</td>\n",
              "      <td>0.0</td>\n",
              "      <td>0.0</td>\n",
              "      <td>0.0</td>\n",
              "      <td>0.0</td>\n",
              "      <td>1.0</td>\n",
              "      <td>1.0</td>\n",
              "      <td>0.75</td>\n",
              "      <td>0.75</td>\n",
              "      <td>0.75</td>\n",
              "      <td>0.25</td>\n",
              "      <td>0.75</td>\n",
              "      <td>0.25</td>\n",
              "      <td>0.00</td>\n",
              "      <td>1.0</td>\n",
              "      <td>1.0</td>\n",
              "      <td>0.666667</td>\n",
              "      <td>0.5</td>\n",
              "      <td>0.5</td>\n",
              "      <td>0.000000</td>\n",
              "      <td>0.111111</td>\n",
              "      <td>0.0</td>\n",
              "      <td>0.000000</td>\n",
              "      <td>0.0</td>\n",
              "      <td>0.619048</td>\n",
              "      <td>0.869565</td>\n",
              "      <td>0.0</td>\n",
              "      <td>1.0</td>\n",
              "    </tr>\n",
              "    <tr>\n",
              "      <th>2</th>\n",
              "      <td>0.000075</td>\n",
              "      <td>0.333333</td>\n",
              "      <td>0.5</td>\n",
              "      <td>0.0</td>\n",
              "      <td>1.0</td>\n",
              "      <td>0.0</td>\n",
              "      <td>0.0</td>\n",
              "      <td>0.0</td>\n",
              "      <td>0.0</td>\n",
              "      <td>0.0</td>\n",
              "      <td>NaN</td>\n",
              "      <td>NaN</td>\n",
              "      <td>1.0</td>\n",
              "      <td>0.0</td>\n",
              "      <td>0.0</td>\n",
              "      <td>NaN</td>\n",
              "      <td>0.5</td>\n",
              "      <td>0.00</td>\n",
              "      <td>0.00</td>\n",
              "      <td>0.75</td>\n",
              "      <td>0.00</td>\n",
              "      <td>0.25</td>\n",
              "      <td>0.00</td>\n",
              "      <td>0.50</td>\n",
              "      <td>1.0</td>\n",
              "      <td>1.0</td>\n",
              "      <td>0.000000</td>\n",
              "      <td>0.5</td>\n",
              "      <td>0.0</td>\n",
              "      <td>0.000000</td>\n",
              "      <td>1.000000</td>\n",
              "      <td>0.0</td>\n",
              "      <td>0.666667</td>\n",
              "      <td>0.0</td>\n",
              "      <td>0.714286</td>\n",
              "      <td>0.956522</td>\n",
              "      <td>0.0</td>\n",
              "      <td>0.0</td>\n",
              "    </tr>\n",
              "    <tr>\n",
              "      <th>3</th>\n",
              "      <td>0.000112</td>\n",
              "      <td>0.333333</td>\n",
              "      <td>0.5</td>\n",
              "      <td>0.0</td>\n",
              "      <td>1.0</td>\n",
              "      <td>0.0</td>\n",
              "      <td>1.0</td>\n",
              "      <td>1.0</td>\n",
              "      <td>0.0</td>\n",
              "      <td>0.0</td>\n",
              "      <td>0.0</td>\n",
              "      <td>1.0</td>\n",
              "      <td>1.0</td>\n",
              "      <td>0.0</td>\n",
              "      <td>0.0</td>\n",
              "      <td>NaN</td>\n",
              "      <td>0.5</td>\n",
              "      <td>0.50</td>\n",
              "      <td>1.00</td>\n",
              "      <td>1.00</td>\n",
              "      <td>0.75</td>\n",
              "      <td>0.00</td>\n",
              "      <td>1.00</td>\n",
              "      <td>0.00</td>\n",
              "      <td>1.0</td>\n",
              "      <td>0.0</td>\n",
              "      <td>0.666667</td>\n",
              "      <td>0.5</td>\n",
              "      <td>0.5</td>\n",
              "      <td>0.333333</td>\n",
              "      <td>0.555556</td>\n",
              "      <td>0.5</td>\n",
              "      <td>0.000000</td>\n",
              "      <td>0.0</td>\n",
              "      <td>0.476190</td>\n",
              "      <td>0.478261</td>\n",
              "      <td>0.0</td>\n",
              "      <td>1.0</td>\n",
              "    </tr>\n",
              "    <tr>\n",
              "      <th>4</th>\n",
              "      <td>0.000150</td>\n",
              "      <td>0.666667</td>\n",
              "      <td>0.5</td>\n",
              "      <td>0.0</td>\n",
              "      <td>1.0</td>\n",
              "      <td>0.0</td>\n",
              "      <td>1.0</td>\n",
              "      <td>1.0</td>\n",
              "      <td>0.0</td>\n",
              "      <td>1.0</td>\n",
              "      <td>0.0</td>\n",
              "      <td>0.0</td>\n",
              "      <td>0.0</td>\n",
              "      <td>0.0</td>\n",
              "      <td>0.0</td>\n",
              "      <td>NaN</td>\n",
              "      <td>0.5</td>\n",
              "      <td>0.50</td>\n",
              "      <td>0.25</td>\n",
              "      <td>0.50</td>\n",
              "      <td>0.00</td>\n",
              "      <td>0.75</td>\n",
              "      <td>0.50</td>\n",
              "      <td>0.75</td>\n",
              "      <td>1.0</td>\n",
              "      <td>0.0</td>\n",
              "      <td>0.000000</td>\n",
              "      <td>0.0</td>\n",
              "      <td>0.0</td>\n",
              "      <td>0.000000</td>\n",
              "      <td>1.000000</td>\n",
              "      <td>0.0</td>\n",
              "      <td>0.333333</td>\n",
              "      <td>0.0</td>\n",
              "      <td>0.904762</td>\n",
              "      <td>0.217391</td>\n",
              "      <td>0.0</td>\n",
              "      <td>0.0</td>\n",
              "    </tr>\n",
              "  </tbody>\n",
              "</table>\n",
              "</div>"
            ],
            "text/plain": [
              "   RESPONDENT_ID  H1N1_CONCERN  ...  H1N1_VACCINE  SEASONAL_VACCINE\n",
              "0       0.000000      0.333333  ...           0.0               0.0\n",
              "1       0.000037      1.000000  ...           0.0               1.0\n",
              "2       0.000075      0.333333  ...           0.0               0.0\n",
              "3       0.000112      0.333333  ...           0.0               1.0\n",
              "4       0.000150      0.666667  ...           0.0               0.0\n",
              "\n",
              "[5 rows x 38 columns]"
            ]
          },
          "metadata": {
            "tags": []
          },
          "execution_count": 10
        }
      ]
    },
    {
      "cell_type": "code",
      "metadata": {
        "id": "2QUqOPBuyUFW"
      },
      "source": [
        "from sklearn.impute import KNNImputer\n",
        "imputer = KNNImputer(n_neighbors=5)\n",
        "dataset = pd.DataFrame(imputer.fit_transform(dataset),columns = dataset.columns)"
      ],
      "execution_count": null,
      "outputs": []
    },
    {
      "cell_type": "code",
      "metadata": {
        "id": "jAncn5i_ycDs",
        "colab": {
          "base_uri": "https://localhost:8080/",
          "height": 226
        },
        "outputId": "85f6af28-0e4c-4936-93a2-1b00bc18bcfc"
      },
      "source": [
        "dataset.head()"
      ],
      "execution_count": null,
      "outputs": [
        {
          "output_type": "execute_result",
          "data": {
            "text/html": [
              "<div>\n",
              "<style scoped>\n",
              "    .dataframe tbody tr th:only-of-type {\n",
              "        vertical-align: middle;\n",
              "    }\n",
              "\n",
              "    .dataframe tbody tr th {\n",
              "        vertical-align: top;\n",
              "    }\n",
              "\n",
              "    .dataframe thead th {\n",
              "        text-align: right;\n",
              "    }\n",
              "</style>\n",
              "<table border=\"1\" class=\"dataframe\">\n",
              "  <thead>\n",
              "    <tr style=\"text-align: right;\">\n",
              "      <th></th>\n",
              "      <th>RESPONDENT_ID</th>\n",
              "      <th>H1N1_CONCERN</th>\n",
              "      <th>H1N1_KNOWLEDGE</th>\n",
              "      <th>BEHAVIORAL_ANTIVIRAL_MEDS</th>\n",
              "      <th>BEHAVIORAL_AVOIDANCE</th>\n",
              "      <th>BEHAVIORAL_FACE_MASK</th>\n",
              "      <th>BEHAVIORAL_WASH_HANDS</th>\n",
              "      <th>BEHAVIORAL_LARGE_GATHERINGS</th>\n",
              "      <th>BEHAVIORAL_OUTSIDE_HOME</th>\n",
              "      <th>BEHAVIORAL_TOUCH_FACE</th>\n",
              "      <th>DOCTOR_RECC_H1N1</th>\n",
              "      <th>DOCTOR_RECC_SEASONAL</th>\n",
              "      <th>CHRONIC_MED_CONDITION</th>\n",
              "      <th>CHILD_UNDER_6_MONTHS</th>\n",
              "      <th>HEALTH_WORKER</th>\n",
              "      <th>HEALTH_INSURANCE</th>\n",
              "      <th>OPINION_H1N1_VACC_EFFECTIVE</th>\n",
              "      <th>OPINION_H1N1_RISK</th>\n",
              "      <th>OPINION_H1N1_SICK_FROM_VACC</th>\n",
              "      <th>OPINION_SEAS_VACC_EFFECTIVE</th>\n",
              "      <th>OPINION_SEAS_RISK</th>\n",
              "      <th>OPINION_SEAS_SICK_FROM_VACC</th>\n",
              "      <th>AGE_GROUP</th>\n",
              "      <th>EDUCATION</th>\n",
              "      <th>RACE</th>\n",
              "      <th>SEX</th>\n",
              "      <th>INCOME_POVERTY</th>\n",
              "      <th>MARITAL_STATUS</th>\n",
              "      <th>RENT_OR_OWN</th>\n",
              "      <th>EMPLOYMENT_STATUS</th>\n",
              "      <th>HHS_GEO_REGION</th>\n",
              "      <th>CENSUS_MSA</th>\n",
              "      <th>HOUSEHOLD_ADULTS</th>\n",
              "      <th>HOUSEHOLD_CHILDREN</th>\n",
              "      <th>EMPLOYMENT_INDUSTRY</th>\n",
              "      <th>EMPLOYMENT_OCCUPATION</th>\n",
              "      <th>H1N1_VACCINE</th>\n",
              "      <th>SEASONAL_VACCINE</th>\n",
              "    </tr>\n",
              "  </thead>\n",
              "  <tbody>\n",
              "    <tr>\n",
              "      <th>0</th>\n",
              "      <td>0.000000</td>\n",
              "      <td>0.333333</td>\n",
              "      <td>0.0</td>\n",
              "      <td>0.0</td>\n",
              "      <td>0.0</td>\n",
              "      <td>0.0</td>\n",
              "      <td>0.0</td>\n",
              "      <td>0.0</td>\n",
              "      <td>1.0</td>\n",
              "      <td>1.0</td>\n",
              "      <td>0.0</td>\n",
              "      <td>0.0</td>\n",
              "      <td>0.0</td>\n",
              "      <td>0.0</td>\n",
              "      <td>0.0</td>\n",
              "      <td>1.0</td>\n",
              "      <td>0.5</td>\n",
              "      <td>0.00</td>\n",
              "      <td>0.25</td>\n",
              "      <td>0.25</td>\n",
              "      <td>0.00</td>\n",
              "      <td>0.25</td>\n",
              "      <td>0.75</td>\n",
              "      <td>0.25</td>\n",
              "      <td>1.0</td>\n",
              "      <td>0.0</td>\n",
              "      <td>0.666667</td>\n",
              "      <td>0.5</td>\n",
              "      <td>0.0</td>\n",
              "      <td>0.333333</td>\n",
              "      <td>0.888889</td>\n",
              "      <td>1.0</td>\n",
              "      <td>0.000000</td>\n",
              "      <td>0.0</td>\n",
              "      <td>0.476190</td>\n",
              "      <td>0.478261</td>\n",
              "      <td>0.0</td>\n",
              "      <td>0.0</td>\n",
              "    </tr>\n",
              "    <tr>\n",
              "      <th>1</th>\n",
              "      <td>0.000037</td>\n",
              "      <td>1.000000</td>\n",
              "      <td>1.0</td>\n",
              "      <td>0.0</td>\n",
              "      <td>1.0</td>\n",
              "      <td>0.0</td>\n",
              "      <td>1.0</td>\n",
              "      <td>0.0</td>\n",
              "      <td>1.0</td>\n",
              "      <td>1.0</td>\n",
              "      <td>0.0</td>\n",
              "      <td>0.0</td>\n",
              "      <td>0.0</td>\n",
              "      <td>0.0</td>\n",
              "      <td>0.0</td>\n",
              "      <td>1.0</td>\n",
              "      <td>1.0</td>\n",
              "      <td>0.75</td>\n",
              "      <td>0.75</td>\n",
              "      <td>0.75</td>\n",
              "      <td>0.25</td>\n",
              "      <td>0.75</td>\n",
              "      <td>0.25</td>\n",
              "      <td>0.00</td>\n",
              "      <td>1.0</td>\n",
              "      <td>1.0</td>\n",
              "      <td>0.666667</td>\n",
              "      <td>0.5</td>\n",
              "      <td>0.5</td>\n",
              "      <td>0.000000</td>\n",
              "      <td>0.111111</td>\n",
              "      <td>0.0</td>\n",
              "      <td>0.000000</td>\n",
              "      <td>0.0</td>\n",
              "      <td>0.619048</td>\n",
              "      <td>0.869565</td>\n",
              "      <td>0.0</td>\n",
              "      <td>1.0</td>\n",
              "    </tr>\n",
              "    <tr>\n",
              "      <th>2</th>\n",
              "      <td>0.000075</td>\n",
              "      <td>0.333333</td>\n",
              "      <td>0.5</td>\n",
              "      <td>0.0</td>\n",
              "      <td>1.0</td>\n",
              "      <td>0.0</td>\n",
              "      <td>0.0</td>\n",
              "      <td>0.0</td>\n",
              "      <td>0.0</td>\n",
              "      <td>0.0</td>\n",
              "      <td>0.0</td>\n",
              "      <td>0.2</td>\n",
              "      <td>1.0</td>\n",
              "      <td>0.0</td>\n",
              "      <td>0.0</td>\n",
              "      <td>0.8</td>\n",
              "      <td>0.5</td>\n",
              "      <td>0.00</td>\n",
              "      <td>0.00</td>\n",
              "      <td>0.75</td>\n",
              "      <td>0.00</td>\n",
              "      <td>0.25</td>\n",
              "      <td>0.00</td>\n",
              "      <td>0.50</td>\n",
              "      <td>1.0</td>\n",
              "      <td>1.0</td>\n",
              "      <td>0.000000</td>\n",
              "      <td>0.5</td>\n",
              "      <td>0.0</td>\n",
              "      <td>0.000000</td>\n",
              "      <td>1.000000</td>\n",
              "      <td>0.0</td>\n",
              "      <td>0.666667</td>\n",
              "      <td>0.0</td>\n",
              "      <td>0.714286</td>\n",
              "      <td>0.956522</td>\n",
              "      <td>0.0</td>\n",
              "      <td>0.0</td>\n",
              "    </tr>\n",
              "    <tr>\n",
              "      <th>3</th>\n",
              "      <td>0.000112</td>\n",
              "      <td>0.333333</td>\n",
              "      <td>0.5</td>\n",
              "      <td>0.0</td>\n",
              "      <td>1.0</td>\n",
              "      <td>0.0</td>\n",
              "      <td>1.0</td>\n",
              "      <td>1.0</td>\n",
              "      <td>0.0</td>\n",
              "      <td>0.0</td>\n",
              "      <td>0.0</td>\n",
              "      <td>1.0</td>\n",
              "      <td>1.0</td>\n",
              "      <td>0.0</td>\n",
              "      <td>0.0</td>\n",
              "      <td>1.0</td>\n",
              "      <td>0.5</td>\n",
              "      <td>0.50</td>\n",
              "      <td>1.00</td>\n",
              "      <td>1.00</td>\n",
              "      <td>0.75</td>\n",
              "      <td>0.00</td>\n",
              "      <td>1.00</td>\n",
              "      <td>0.00</td>\n",
              "      <td>1.0</td>\n",
              "      <td>0.0</td>\n",
              "      <td>0.666667</td>\n",
              "      <td>0.5</td>\n",
              "      <td>0.5</td>\n",
              "      <td>0.333333</td>\n",
              "      <td>0.555556</td>\n",
              "      <td>0.5</td>\n",
              "      <td>0.000000</td>\n",
              "      <td>0.0</td>\n",
              "      <td>0.476190</td>\n",
              "      <td>0.478261</td>\n",
              "      <td>0.0</td>\n",
              "      <td>1.0</td>\n",
              "    </tr>\n",
              "    <tr>\n",
              "      <th>4</th>\n",
              "      <td>0.000150</td>\n",
              "      <td>0.666667</td>\n",
              "      <td>0.5</td>\n",
              "      <td>0.0</td>\n",
              "      <td>1.0</td>\n",
              "      <td>0.0</td>\n",
              "      <td>1.0</td>\n",
              "      <td>1.0</td>\n",
              "      <td>0.0</td>\n",
              "      <td>1.0</td>\n",
              "      <td>0.0</td>\n",
              "      <td>0.0</td>\n",
              "      <td>0.0</td>\n",
              "      <td>0.0</td>\n",
              "      <td>0.0</td>\n",
              "      <td>1.0</td>\n",
              "      <td>0.5</td>\n",
              "      <td>0.50</td>\n",
              "      <td>0.25</td>\n",
              "      <td>0.50</td>\n",
              "      <td>0.00</td>\n",
              "      <td>0.75</td>\n",
              "      <td>0.50</td>\n",
              "      <td>0.75</td>\n",
              "      <td>1.0</td>\n",
              "      <td>0.0</td>\n",
              "      <td>0.000000</td>\n",
              "      <td>0.0</td>\n",
              "      <td>0.0</td>\n",
              "      <td>0.000000</td>\n",
              "      <td>1.000000</td>\n",
              "      <td>0.0</td>\n",
              "      <td>0.333333</td>\n",
              "      <td>0.0</td>\n",
              "      <td>0.904762</td>\n",
              "      <td>0.217391</td>\n",
              "      <td>0.0</td>\n",
              "      <td>0.0</td>\n",
              "    </tr>\n",
              "  </tbody>\n",
              "</table>\n",
              "</div>"
            ],
            "text/plain": [
              "   RESPONDENT_ID  H1N1_CONCERN  ...  H1N1_VACCINE  SEASONAL_VACCINE\n",
              "0       0.000000      0.333333  ...           0.0               0.0\n",
              "1       0.000037      1.000000  ...           0.0               1.0\n",
              "2       0.000075      0.333333  ...           0.0               0.0\n",
              "3       0.000112      0.333333  ...           0.0               1.0\n",
              "4       0.000150      0.666667  ...           0.0               0.0\n",
              "\n",
              "[5 rows x 38 columns]"
            ]
          },
          "metadata": {
            "tags": []
          },
          "execution_count": 12
        }
      ]
    },
    {
      "cell_type": "code",
      "metadata": {
        "id": "a9fgauWwy5_3",
        "colab": {
          "base_uri": "https://localhost:8080/"
        },
        "outputId": "43962579-f648-425f-abb7-4eb6bd600f20"
      },
      "source": [
        "dataset.isnull().sum()"
      ],
      "execution_count": null,
      "outputs": [
        {
          "output_type": "execute_result",
          "data": {
            "text/plain": [
              "RESPONDENT_ID                  0\n",
              "H1N1_CONCERN                   0\n",
              "H1N1_KNOWLEDGE                 0\n",
              "BEHAVIORAL_ANTIVIRAL_MEDS      0\n",
              "BEHAVIORAL_AVOIDANCE           0\n",
              "BEHAVIORAL_FACE_MASK           0\n",
              "BEHAVIORAL_WASH_HANDS          0\n",
              "BEHAVIORAL_LARGE_GATHERINGS    0\n",
              "BEHAVIORAL_OUTSIDE_HOME        0\n",
              "BEHAVIORAL_TOUCH_FACE          0\n",
              "DOCTOR_RECC_H1N1               0\n",
              "DOCTOR_RECC_SEASONAL           0\n",
              "CHRONIC_MED_CONDITION          0\n",
              "CHILD_UNDER_6_MONTHS           0\n",
              "HEALTH_WORKER                  0\n",
              "HEALTH_INSURANCE               0\n",
              "OPINION_H1N1_VACC_EFFECTIVE    0\n",
              "OPINION_H1N1_RISK              0\n",
              "OPINION_H1N1_SICK_FROM_VACC    0\n",
              "OPINION_SEAS_VACC_EFFECTIVE    0\n",
              "OPINION_SEAS_RISK              0\n",
              "OPINION_SEAS_SICK_FROM_VACC    0\n",
              "AGE_GROUP                      0\n",
              "EDUCATION                      0\n",
              "RACE                           0\n",
              "SEX                            0\n",
              "INCOME_POVERTY                 0\n",
              "MARITAL_STATUS                 0\n",
              "RENT_OR_OWN                    0\n",
              "EMPLOYMENT_STATUS              0\n",
              "HHS_GEO_REGION                 0\n",
              "CENSUS_MSA                     0\n",
              "HOUSEHOLD_ADULTS               0\n",
              "HOUSEHOLD_CHILDREN             0\n",
              "EMPLOYMENT_INDUSTRY            0\n",
              "EMPLOYMENT_OCCUPATION          0\n",
              "H1N1_VACCINE                   0\n",
              "SEASONAL_VACCINE               0\n",
              "dtype: int64"
            ]
          },
          "metadata": {
            "tags": []
          },
          "execution_count": 13
        }
      ]
    },
    {
      "cell_type": "code",
      "metadata": {
        "id": "sBJo15iUZYYi"
      },
      "source": [
        "from sklearn.model_selection import train_test_split\n",
        "\n",
        "# seperate data into 2 groups : a train dataset and a test dataset\n",
        "dataset = dataset.sample(frac=1)\n",
        "\n",
        "# train dataset:\n",
        "#train = dataset[0:18696] # cut in two the original dataset\n",
        "# train dataset:\n",
        "#test = dataset[18697:]\n",
        "\n",
        "y = dataset['H1N1_VACCINE']\n",
        "X = dataset.drop([\"H1N1_VACCINE\"],axis=1)\n",
        "\n",
        "\n",
        "X_train, X_test, y_train, y_test = train_test_split(X, y, test_size=0.3, random_state=0)\n"
      ],
      "execution_count": null,
      "outputs": []
    },
    {
      "cell_type": "code",
      "metadata": {
        "id": "nwM9WpwqsecY",
        "colab": {
          "base_uri": "https://localhost:8080/"
        },
        "outputId": "856d7b16-92ed-41d8-e834-aa328073c69d"
      },
      "source": [
        "print(np.shape(X))\n",
        "print(np.shape(y))"
      ],
      "execution_count": null,
      "outputs": [
        {
          "output_type": "stream",
          "text": [
            "(26707, 37)\n",
            "(26707,)\n"
          ],
          "name": "stdout"
        }
      ]
    },
    {
      "cell_type": "code",
      "metadata": {
        "id": "nUAqDFeJA4GL"
      },
      "source": [
        "#Y_train = train['H1N1_VACCINE'] # create our label\n",
        "#X_train = train.drop(['H1N1_VACCINE'],axis=1) # drop the Class (label)\n",
        "#X_train = np.asarray(X_train)\n",
        "#y_train = np.asarray(Y_train)"
      ],
      "execution_count": null,
      "outputs": []
    },
    {
      "cell_type": "code",
      "metadata": {
        "id": "57zQGsu0CIgn"
      },
      "source": [
        "from sklearn import svm\n",
        "classifier = svm.SVC(kernel='linear') # set SVM classifier, the default SVM Classifier (Kernel = Radial Basis Function)"
      ],
      "execution_count": null,
      "outputs": []
    },
    {
      "cell_type": "code",
      "metadata": {
        "id": "4OLoA6bjDwa5"
      },
      "source": [
        "class_names=np.array(['0','1']) \n",
        "\n",
        "# Function to plot the confusion Matrix\n",
        "import itertools\n",
        "def plot_confusion_matrix(cm, classes,\n",
        "                          title='Confusion matrix',\n",
        "                          cmap=plt.cm.Blues):\n",
        "    \n",
        "    plt.imshow(cm, interpolation='nearest', cmap=cmap)\n",
        "    plt.title(title)\n",
        "    plt.colorbar()\n",
        "    tick_marks = np.arange(len(classes))\n",
        "    plt.xticks(tick_marks, classes, rotation=45)\n",
        "    plt.yticks(tick_marks, classes)\n",
        "\n",
        "    fmt = 'd' \n",
        "    thresh = cm.max() / 2.\n",
        "    for i, j in itertools.product(range(cm.shape[0]), range(cm.shape[1])):\n",
        "        plt.text(j, i, format(cm[i, j], fmt),\n",
        "                 horizontalalignment=\"center\",\n",
        "                 color=\"white\" if cm[i, j] > thresh else \"black\")\n",
        "\n",
        "    plt.tight_layout()\n",
        "    plt.ylabel('True label')\n",
        "    plt.xlabel('Predicted label')"
      ],
      "execution_count": null,
      "outputs": []
    },
    {
      "cell_type": "code",
      "metadata": {
        "id": "1Krdz7VkE_6I"
      },
      "source": [
        "from sklearn import preprocessing\n",
        "from sklearn import utils\n",
        "lab_enc = preprocessing.LabelEncoder()\n",
        "\n",
        "y_train = y_train.astype('int')\n",
        "y_test = y_test.astype('int')\n",
        "\n",
        "\n",
        "\n",
        "#print(utils.multiclass.type_of_target(trainingScores.astype('int')))\n",
        "#>>> multiclass\n",
        "\n",
        "#print(utils.multiclass.type_of_target(encoded))"
      ],
      "execution_count": null,
      "outputs": []
    },
    {
      "cell_type": "code",
      "metadata": {
        "id": "-5pMDXOJEBJy",
        "colab": {
          "base_uri": "https://localhost:8080/"
        },
        "outputId": "c901a8aa-2509-4a2f-ce1f-91bdf919378d"
      },
      "source": [
        "classifier.fit(X_train, y_train) # Then we train our model, with our balanced data train."
      ],
      "execution_count": null,
      "outputs": [
        {
          "output_type": "execute_result",
          "data": {
            "text/plain": [
              "SVC(C=1.0, break_ties=False, cache_size=200, class_weight=None, coef0=0.0,\n",
              "    decision_function_shape='ovr', degree=3, gamma='scale', kernel='linear',\n",
              "    max_iter=-1, probability=False, random_state=None, shrinking=True,\n",
              "    tol=0.001, verbose=False)"
            ]
          },
          "metadata": {
            "tags": []
          },
          "execution_count": 20
        }
      ]
    },
    {
      "cell_type": "code",
      "metadata": {
        "id": "Yc06oGBIECTL"
      },
      "source": [
        "prediction_SVM_all = classifier.predict(X_test) #And finally, we predict our data test."
      ],
      "execution_count": null,
      "outputs": []
    },
    {
      "cell_type": "code",
      "metadata": {
        "id": "IWHJFtazEGE-",
        "colab": {
          "base_uri": "https://localhost:8080/",
          "height": 314
        },
        "outputId": "d830e2c8-2d54-47dd-fce1-6b57947a51a4"
      },
      "source": [
        "from sklearn.metrics import confusion_matrix\n",
        "cm = confusion_matrix(y_test, prediction_SVM_all)\n",
        "plot_confusion_matrix(cm,class_names)"
      ],
      "execution_count": null,
      "outputs": [
        {
          "output_type": "display_data",
          "data": {
            "image/png": "[encoded data removed]",
            "text/plain": [
              "<Figure size 432x288 with 2 Axes>"
            ]
          },
          "metadata": {
            "tags": [],
            "needs_background": "light"
          }
        }
      ]
    },
    {
      "cell_type": "code",
      "metadata": {
        "id": "CzeW0KnCfHi0",
        "colab": {
          "base_uri": "https://localhost:8080/"
        },
        "outputId": "ab6feb64-a83a-4207-83fb-822ffbbb0bc1"
      },
      "source": [
        "print('Accuracy = ' \n",
        "      + str( (cm[0][0]+cm[1][1]) / (sum(cm[0]) + sum(cm[1])) ))"
      ],
      "execution_count": null,
      "outputs": [
        {
          "output_type": "stream",
          "text": [
            "Accuracy = 0.8529888930487957\n"
          ],
          "name": "stdout"
        }
      ]
    },
    {
      "cell_type": "code",
      "metadata": {
        "id": "ApxL16M9oNp-"
      },
      "source": [
        "accuracies_old = [0.8322097378277153, 0.8278401997503121, 0.8273408239700375, 0.8343320848938827, 0.83832709113608, 0.834956304619226, 0.8318352059925094, 0.8307116104868913, 0.8369538077403246, 0.8309612983770287, 0.832334581772784, 0.8337078651685393, 0.8257178526841448, 0.8423220973782771, 0.831210986267166, 0.8295880149812734, 0.8332084893882646, 0.831960049937578, 0.8333333333333334, 0.8328339575530587, 0.8362047440699126, 0.8307116104868913, 0.833458177278402, 0.8360799001248439, 0.833083645443196, 0.8414481897627965, 0.8372034956304619, 0.831585518102372, 0.8328339575530587, 0.8425717852684145, 0.8333333333333334, 0.83645443196005, 0.8313358302122347, 0.8320848938826467, 0.8377028714107366, 0.83645443196005, 0.8365792759051186, 0.8357053682896379, 0.8318352059925094, 0.833083645443196, 0.8307116104868913, 0.8365792759051186, 0.8352059925093633, 0.8328339575530587, 0.833083645443196, 0.8385767790262172, 0.8362047440699126, 0.8289637952559301, 0.8355805243445693, 0.8377028714107366, 0.8413233458177278, 0.8378277153558052, 0.8355805243445693, 0.8259675405742821, 0.8363295880149813, 0.8339575530586767, 0.835330836454432, 0.8325842696629213, 0.8397003745318352, 0.8357053682896379, 0.8365792759051186, 0.8310861423220974, 0.8270911360799001, 0.833083645443196, 0.8305867665418227, 0.8318352059925094, 0.8324594257178527, 0.8335830212234706, 0.8317103620474408, 0.8309612983770287, 0.83458177278402, 0.8350811485642946, 0.8324594257178527, 0.8354556803995006, 0.8325842696629213, 0.8392009987515605, 0.8344569288389513, 0.833458177278402, 0.8322097378277153, 0.8332084893882646, 0.8269662921348314, 0.8298377028714108, 0.833083645443196, 0.8373283395755305, 0.8362047440699126, 0.8359550561797753, 0.8390761548064919, 0.834956304619226, 0.8285892634207241, 0.8362047440699126, 0.830087390761548, 0.8374531835205993, 0.8325842696629213, 0.8358302122347067, 0.8375780274656679, 0.8333333333333334, 0.83270911360799, 0.8352059925093633, 0.83270911360799, 0.8343320848938827]"
      ],
      "execution_count": null,
      "outputs": []
    },
    {
      "cell_type": "code",
      "metadata": {
        "id": "oiexoMUvoS_G",
        "colab": {
          "base_uri": "https://localhost:8080/",
          "height": 299
        },
        "outputId": "58f3be41-6dc7-4483-e770-67e5255fcaff"
      },
      "source": [
        "import seaborn as sns\n",
        "plt.title('100 Accuracy Samples')\n",
        "plt.xlabel('Accuracy / %')\n",
        "\n",
        "sns.set_theme(style=\"whitegrid\")\n",
        "ax = sns.violinplot(x=accuracies_old)"
      ],
      "execution_count": null,
      "outputs": [
        {
          "output_type": "display_data",
          "data": {
            "image/png": "[encoded data removed]",
            "text/plain": [
              "<Figure size 432x288 with 1 Axes>"
            ]
          },
          "metadata": {
            "tags": [],
            "needs_background": "light"
          }
        }
      ]
    },
    {
      "cell_type": "code",
      "metadata": {
        "id": "eZxvIpIKXRu2",
        "colab": {
          "base_uri": "https://localhost:8080/",
          "height": 301
        },
        "outputId": "0691438f-299c-4c98-a84e-a16847a4bcd9"
      },
      "source": [
        "# predicting h1n1 using seasonal as feature\n",
        "accuracies = [0.8499375780274657, 0.853183520599251, 0.8551810237203495, 0.8481897627965044, 0.8524344569288389, 0.850936329588015, 0.8518102372034956, 0.8548064918851436, 0.8504369538077403, 0.849438202247191, 0.8536828963795255, 0.8534332084893883, 0.8478152309612984, 0.8496878901373284, 0.853183520599251, 0.8584269662921349, 0.850187265917603, 0.8559300873907616, 0.8520599250936329, 0.8500624219725343, 0.8469413233458177, 0.848314606741573, 0.8544319600499376, 0.8530586766541822, 0.8563046192259676, 0.8563046192259676, 0.849063670411985, 0.8558052434456929, 0.847565543071161, 0.8500624219725343, 0.8571785268414482, 0.8455680399500625, 0.8510611735330836, 0.8468164794007491, 0.849438202247191, 0.8540574282147316, 0.8541822721598002, 0.853183520599251, 0.8484394506866417, 0.8510611735330836, 0.8455680399500625, 0.8538077403245943, 0.853183520599251, 0.847565543071161, 0.851310861423221, 0.8515605493133583, 0.8478152309612984, 0.850187265917603, 0.8560549313358302, 0.8510611735330836, 0.8620474406991261, 0.8521847690387017, 0.8536828963795255, 0.8486891385767791, 0.8493133583021224, 0.854681647940075, 0.8503121098626717, 0.8518102372034956, 0.8496878901373284, 0.8560549313358302, 0.8451935081148564, 0.849063670411985, 0.8488139825218477, 0.8549313358302122, 0.849438202247191, 0.850187265917603, 0.8489388264669163, 0.8473158551810237, 0.8506866416978777, 0.8559300873907616, 0.8511860174781523, 0.8511860174781523, 0.8496878901373284, 0.8519350811485643, 0.8433208489388264, 0.8529338327091136, 0.8476903870162297, 0.8534332084893883, 0.8504369538077403, 0.851310861423221, 0.8504369538077403, 0.8574282147315855, 0.8533083645443196, 0.8451935081148564, 0.8529338327091136, 0.848314606741573, 0.8506866416978777, 0.8529338327091136, 0.851685393258427, 0.8551810237203495, 0.851685393258427, 0.8510611735330836, 0.8521847690387017, 0.8536828963795255, 0.8544319600499376, 0.8500624219725343, 0.8524344569288389, 0.8520599250936329, 0.8504369538077403, 0.8514357053682896]\n",
        "\n",
        "import seaborn as sns\n",
        "plt.title('100 Test Accuracy Samples')\n",
        "plt.xlabel('Accuracy / %')\n",
        "\n",
        "sns.set_theme(style=\"whitegrid\")\n",
        "ax = sns.violinplot(x=accuracies)\n"
      ],
      "execution_count": null,
      "outputs": [
        {
          "output_type": "display_data",
          "data": {
            "image/png": "[encoded data removed]",
            "text/plain": [
              "<Figure size 432x288 with 1 Axes>"
            ]
          },
          "metadata": {
            "tags": []
          }
        }
      ]
    },
    {
      "cell_type": "code",
      "metadata": {
        "colab": {
          "base_uri": "https://localhost:8080/",
          "height": 301
        },
        "id": "5Xj14sPLD1Wc",
        "outputId": "efe58c5e-45fa-4d5b-df98-85b1d0e03f4f"
      },
      "source": [
        "import matplotlib.pyplot as plt\n",
        "\n",
        "# Linear Kernel\n",
        "accuracies = [0.79477612, 0.89179104, 0.83955224, 0.81343284, 0.8619403,  0.86567164, 0.83208955, 0.86142322, 0.85018727, 0.86891386, 0.82771536, 0.86891386, 0.87640449, 0.89138577, 0.84269663, 0.83146067, 0.85018727, 0.82022472, 0.88764045, 0.86891386, 0.85018727, 0.78651685, 0.87265918, 0.85018727, 0.88389513, 0.81273408, 0.85018727, 0.86516854, 0.84269663, 0.83520599, 0.84269663, 0.8576779,  0.86516854, 0.84644195, 0.83895131, 0.83520599, 0.82397004, 0.85018727, 0.87265918, 0.86142322, 0.84644195, 0.87640449, 0.84644195, 0.86142322, 0.83895131, 0.8576779, 0.83146067, 0.84269663, 0.8164794,  0.86891386, 0.83146067,  0.88014981, 0.82771536, 0.88014981, 0.84269663, 0.82022472, 0.85393258, 0.88764045, 0.85018727, 0.83520599, 0.86142322, 0.84644195, 0.80149813, 0.83895131, 0.86516854, 0.86516854, 0.82022472, 0.84644195, 0.88014981, 0.86891386, 0.84269663, 0.88389513, 0.83895131, 0.82022472, 0.85393258, 0.86516854, 0.85393258, 0.88389513, 0.84269663, 0.82771536, 0.86516854, 0.8576779, 0.88014981, 0.88764045, 0.84644195, 0.88389513, 0.83520599, 0.8576779, 0.86516854, 0.84269663, 0.88014981, 0.83895131, 0.85018727, 0.87265918, 0.82771536, 0.84269663, 0.86516854, 0.8576779,  0.83520599, 0.82022472]\n",
        "\n",
        "import seaborn as sns\n",
        "plt.title('100 Accuracy Samples')\n",
        "plt.xlabel('Accuracy / %')\n",
        "\n",
        "sns.set_theme(style=\"whitegrid\")\n",
        "ax = sns.violinplot(x=accuracies)"
      ],
      "execution_count": null,
      "outputs": [
        {
          "output_type": "display_data",
          "data": {
            "image/png": "[encoded data removed]",
            "text/plain": [
              "<Figure size 432x288 with 1 Axes>"
            ]
          },
          "metadata": {
            "tags": []
          }
        }
      ]
    },
    {
      "cell_type": "code",
      "metadata": {
        "id": "gWW2CGKDD2E-",
        "colab": {
          "base_uri": "https://localhost:8080/",
          "height": 301
        },
        "outputId": "a967acfe-ac62-47aa-bec9-03846d839d96"
      },
      "source": [
        "# RBF Kernel\n",
        "import matplotlib.pyplot as plt\n",
        "import seaborn as sns\n",
        "accuracies = [0.80597015, 0.87313433, 0.84328358, 0.81716418, 0.85447761, 0.8619403,\n",
        " 0.83208955, 0.87265918, 0.86142322, 0.86142322, 0.82397004, 0.88389513,\n",
        " 0.87265918, 0.90636704, 0.85018727, 0.85018727, 0.87640449, 0.84269663,\n",
        " 0.86891386, 0.85393258, 0.84644195, 0.81273408, 0.86891386, 0.83895131,\n",
        " 0.88389513, 0.82022472, 0.83895131, 0.8576779,  0.84644195, 0.82022472,\n",
        " 0.84644195, 0.85393258, 0.86142322, 0.85393258, 0.83895131, 0.84269663,\n",
        " 0.85393258, 0.85018727, 0.86891386, 0.84644195, 0.85393258, 0.87265918,\n",
        " 0.87265918, 0.86516854, 0.82771536, 0.86142322, 0.83146067, 0.82022472,\n",
        " 0.82397004, 0.84644195, 0.83146067, 0.88764045, 0.83895131, 0.88389513,\n",
        " 0.84269663, 0.83520599, 0.85018727, 0.8988764,  0.86516854, 0.82022472,\n",
        " 0.83895131, 0.84644195, 0.83146067, 0.82397004, 0.86142322, 0.87265918,\n",
        " 0.83895131, 0.85018727, 0.87640449, 0.89138577, 0.86516854, 0.86142322,\n",
        " 0.8576779,  0.84269663, 0.82771536, 0.86516854, 0.8576779,  0.86891386,\n",
        " 0.85018727, 0.82397004, 0.85393258, 0.8576779, 0.88014981, 0.88389513,\n",
        " 0.83895131, 0.86516854, 0.82771536, 0.83895131, 0.85393258, 0.84644195,\n",
        " 0.87640449, 0.84269663, 0.85393258, 0.86891386, 0.82771536, 0.85018727,\n",
        " 0.85018727, 0.8576779,  0.83520599, 0.82397004,]\n",
        "\n",
        "plt.title('100 Accuracy Samples')\n",
        "plt.xlabel('Accuracy / %')\n",
        "sns.set_theme(style=\"whitegrid\")\n",
        "ax = sns.violinplot(x=accuracies)"
      ],
      "execution_count": null,
      "outputs": [
        {
          "output_type": "display_data",
          "data": {
            "image/png": "[encoded data removed]",
            "text/plain": [
              "<Figure size 432x288 with 1 Axes>"
            ]
          },
          "metadata": {
            "tags": []
          }
        }
      ]
    },
    {
      "cell_type": "code",
      "metadata": {
        "colab": {
          "base_uri": "https://localhost:8080/",
          "height": 301
        },
        "id": "6HID29MhD2tK",
        "outputId": "e79d0521-87a5-4703-fb47-88e54ffb0fd9"
      },
      "source": [
        "# Polynomial kernel\n",
        "\n",
        "import matplotlib.pyplot as plt\n",
        "import seaborn as sns\n",
        "accuracies = [0.80597015, 0.8880597,  0.85074627, 0.82835821, 0.87686567, 0.8619403,\n",
        " 0.8358209,  0.87265918, 0.8576779,  0.87640449, 0.83895131, 0.88014981,\n",
        " 0.88764045, 0.8988764,  0.86142322, 0.84644195, 0.87265918, 0.82771536,\n",
        " 0.86891386, 0.86891386, 0.86891386, 0.81273408, 0.88014981, 0.82771536,\n",
        " 0.89513109, 0.83146067, 0.83520599, 0.86891386, 0.85393258, 0.82771536,\n",
        " 0.84644195, 0.86516854, 0.86516854, 0.85393258, 0.82022472, 0.84644195,\n",
        " 0.83895131, 0.84269663, 0.86142322, 0.85393258, 0.84269663, 0.8988764,\n",
        " 0.86891386, 0.86142322, 0.85393258, 0.84269663, 0.84269663, 0.82397004,\n",
        " 0.82397004, 0.86142322, 0.83520599, 0.89138577, 0.85018727, 0.87640449,\n",
        " 0.84644195, 0.84644195, 0.86891386, 0.89138577, 0.86142322, 0.83520599,\n",
        " 0.85393258, 0.83895131, 0.82022472, 0.83895131, 0.85393258, 0.89513109,\n",
        " 0.84644195, 0.87640449, 0.87265918, 0.87265918, 0.86142322, 0.87265918,\n",
        " 0.85018727, 0.83520599, 0.85393258, 0.86142322, 0.86142322, 0.86142322,\n",
        " 0.84644195, 0.83895131, 0.8576779,  0.87640449, 0.87640449, 0.88764045,\n",
        " 0.83895131, 0.8576779,  0.84269663, 0.86891386, 0.87640449, 0.84644195,\n",
        " 0.86891386, 0.84269663, 0.8576779,  0.86891386, 0.83146067, 0.86142322,\n",
        " 0.85018727, 0.84644195, 0.82771536, 0.83146067,]\n",
        "\n",
        "\n",
        "plt.title('100 Accuracy Samples')\n",
        "plt.xlabel('Accuracy / %')\n",
        "sns.set_theme(style=\"whitegrid\")\n",
        "ax = sns.violinplot(x=accuracies)"
      ],
      "execution_count": null,
      "outputs": [
        {
          "output_type": "display_data",
          "data": {
            "image/png": "[encoded data removed]",
            "text/plain": [
              "<Figure size 432x288 with 1 Axes>"
            ]
          },
          "metadata": {
            "tags": []
          }
        }
      ]
    },
    {
      "cell_type": "code",
      "metadata": {
        "id": "p6-1MGQMux3u",
        "colab": {
          "base_uri": "https://localhost:8080/"
        },
        "outputId": "fa80da16-91e6-4201-e335-6c5a12f36dde"
      },
      "source": [
        "import statistics \n",
        "\n",
        "mean = statistics.mean(accuracies)\n",
        "stdev = statistics.stdev(accuracies)\n",
        "\n",
        "print('90% confidence interval = ' + str(mean) + ' +- ' + str(1.645*stdev/10))\n",
        "print(str(round(mean-1.645*stdev/10, 4)) + ' to ' + str(round(mean + 1.645*stdev/10, 4)))\n",
        "\n",
        "print('95% confidence interval = ' + str(mean) + ' +- ' + str(1.960*stdev/10))\n",
        "print(str(round(mean-1.960*stdev/10, 4)) + ' to ' + str(round(mean + 1.960*stdev/10, 4)))\n",
        "\n",
        "print('99% confidence interval = ' + str(mean) + ' +- ' + str(2.576*stdev/10))\n",
        "print(str(round(mean-2.576*stdev/10, 4)) + ' to ' + str(round(mean + 2.576*stdev/10, 4)))\n",
        "\n",
        "print('99.9% confidence interval = ' + str(mean) + ' +- ' + str(3.291*stdev/10))\n",
        "print(str(round(mean-3.291*stdev/10, 4)) + ' to ' + str(round(mean + 3.291*stdev/10, 4)))"
      ],
      "execution_count": null,
      "outputs": [
        {
          "output_type": "stream",
          "text": [
            "90% confidence interval = 0.8555450277 +- 0.003324340403234089\n",
            "0.8522 to 0.8589\n",
            "95% confidence interval = 0.8555450277 +- 0.003960916225129978\n",
            "0.8516 to 0.8595\n",
            "99% confidence interval = 0.8555450277 +- 0.005205775610170829\n",
            "0.8503 to 0.8608\n",
            "99.9% confidence interval = 0.8555450277 +- 0.006650701682093243\n",
            "0.8489 to 0.8622\n"
          ],
          "name": "stdout"
        }
      ]
    },
    {
      "cell_type": "code",
      "metadata": {
        "id": "VndkAV34HBQz",
        "colab": {
          "base_uri": "https://localhost:8080/",
          "height": 268
        },
        "outputId": "a60dd65a-43cb-479f-c2fb-690b230c460d"
      },
      "source": [
        "i = range(50,100)\n",
        "acc = [0.8345247550966376, 0.8348234754699679, 0.8363250337772631, 0.8323192136672127, 0.8350478893224548, 0.8362810707456979, 0.8362523654225551, 0.8327228327228328, 0.8351232358145085, 0.8331669162922283, 0.834658588918339, 0.833290783763084, 0.8349903163331182, 0.8336381051898293, 0.8345006827893044, 0.8351609164660783, 0.8349724803753497, 0.8336910361203708, 0.8343657544378699, 0.8332319213667213, 0.8357190255000474, 0.8337573808266526, 0.8380665240225637, 0.8344582943292113, 0.8353469795307039, 0.8328695036178718, 0.83427369716865, 0.835820895522388, 0.8355658685792637, 0.835196576624766, 0.8361732146733232, 0.8340399757722592, 0.8348049625572818, 0.8364348122092363, 0.8349559306411659, 0.8364146969342382, 0.8328083209509658, 0.8340379272859041, 0.8401571419802345, 0.8343734398402396, 0.8370882782255505, 0.8356358941252421, 0.8359718846482297, 0.8360524204332709, 0.8372932126080741, 0.8342809596449868, 0.8348286824443659, 0.8327332949308756, 0.8352543866089127, 0.8401108365161387]\n",
        "plt.bar(i, acc)\n",
        "plt.show()"
      ],
      "execution_count": null,
      "outputs": [
        {
          "output_type": "display_data",
          "data": {
            "image/png": "[encoded data removed]",
            "text/plain": [
              "<Figure size 432x288 with 1 Axes>"
            ]
          },
          "metadata": {
            "tags": []
          }
        }
      ]
    },
    {
      "cell_type": "code",
      "metadata": {
        "id": "bPuQH2iBcoby",
        "colab": {
          "base_uri": "https://localhost:8080/",
          "height": 307
        },
        "outputId": "fb5f312e-1c82-4b0d-cea6-ce9dbd7f1fd8"
      },
      "source": [
        "#   How C changes accuracy:\n",
        "\n",
        "C = [0.0001, 0.001, 0.01, 0.05, 0.1, 0.2, 0.3, 0.5, 0.8, 1]\n",
        "acc_c = [0.7917602996254681, 0.7908863920099876, 0.8325842696629213, 0.8358302122347067, 0.8378277153558052, 0.8358302122347067, 0.8388264669163545, 0.8317103620474408, 0.8314606741573034, 0.833832709113608]\n",
        "plt.ylim(top=0.9,bottom=0.75)\n",
        "#plt.xlim(left=0,right=1)\n",
        "plt.xscale('log')\n",
        "plt.plot(C, acc_c)\n",
        "plt.title('How C affects test accuracy')\n",
        "plt.xlabel('C')\n",
        "plt.ylabel('Test Accuracy %')\n",
        "\n",
        "plt.show()"
      ],
      "execution_count": null,
      "outputs": [
        {
          "output_type": "display_data",
          "data": {
            "image/png": "[encoded data removed]",
            "text/plain": [
              "<Figure size 432x288 with 1 Axes>"
            ]
          },
          "metadata": {
            "tags": []
          }
        }
      ]
    },
    {
      "cell_type": "code",
      "metadata": {
        "id": "z_3qa6-1JbpX"
      },
      "source": [
        ""
      ],
      "execution_count": null,
      "outputs": []
    },
    {
      "cell_type": "code",
      "metadata": {
        "colab": {
          "base_uri": "https://localhost:8080/",
          "height": 268
        },
        "id": "bL-zcXkgLqHU",
        "outputId": "6784e1f0-0859-4798-9c29-703b3facc94b"
      },
      "source": [
        "# SVM reliability diagram\n",
        "from sklearn.datasets import make_classification\n",
        "from sklearn.svm import SVC\n",
        "from sklearn.model_selection import train_test_split\n",
        "from sklearn.calibration import calibration_curve\n",
        "from matplotlib import pyplot\n",
        "# generate 2 class dataset\n",
        "dataset = pd.read_csv(\"/content/vaccine_data.csv\", na_values='NaN')\n",
        "dataset.columns = (dataset.columns.str.strip().str.upper()\n",
        "              .str.replace(' ', '_')\n",
        "              .str.replace('(', '')\n",
        "              .str.replace(')', ''))\n",
        "str_cols = dataset.select_dtypes(include = 'object').columns\n",
        "LE = LabelEncoder()\n",
        "for col in str_cols:\n",
        "    dataset[col] = LE.fit_transform(dataset[col].astype(str)) # Converts to int64\n",
        "scaler = MinMaxScaler()\n",
        "dataset = pd.DataFrame(scaler.fit_transform(dataset), columns = dataset.columns)\n",
        "imputer = KNNImputer(n_neighbors=5)\n",
        "dataset = pd.DataFrame(imputer.fit_transform(dataset),columns = dataset.columns)\n",
        "dataset = dataset.sample(frac=1)\n",
        "\n",
        "y = dataset['H1N1_VACCINE']\n",
        "X = dataset.drop([\"H1N1_VACCINE\"],axis=1)\n",
        "\n",
        "\n",
        "\n",
        "\n",
        "# split into train/test sets\n",
        "trainX, testX, trainy, testy = train_test_split(X, y, test_size=0.3, random_state=1)\n",
        "# fit a model\n",
        "model = SVC()\n",
        "model.fit(trainX, trainy)\n",
        "# predict probabilities\n",
        "probs = model.decision_function(testX)\n",
        "# reliability diagram\n",
        "fop, mpv = calibration_curve(testy, probs, n_bins=30, normalize=True)\n",
        "# plot perfectly calibrated\n",
        "pyplot.plot([0, 1], [0, 1], linestyle='--')\n",
        "# plot model reliability\n",
        "pyplot.plot(mpv, fop, marker='.')\n",
        "pyplot.show()"
      ],
      "execution_count": null,
      "outputs": [
        {
          "output_type": "display_data",
          "data": {
            "image/png": "[encoded data removed]",
            "text/plain": [
              "<Figure size 432x288 with 1 Axes>"
            ]
          },
          "metadata": {
            "tags": []
          }
        }
      ]
    },
    {
      "cell_type": "code",
      "metadata": {
        "colab": {
          "base_uri": "https://localhost:8080/",
          "height": 268
        },
        "id": "zvwtCVJ7L3mT",
        "outputId": "4a4a231f-d685-40d2-e30e-5141fda3981b"
      },
      "source": [
        "\n",
        "from sklearn.datasets import make_classification\n",
        "from sklearn.svm import SVC\n",
        "from sklearn.calibration import CalibratedClassifierCV\n",
        "from sklearn.model_selection import train_test_split\n",
        "from sklearn.calibration import calibration_curve\n",
        "from matplotlib import pyplot\n",
        "# generate 2 class dataset\n",
        "\n",
        "dataset = pd.read_csv(\"/content/vaccine_data.csv\", na_values='NaN')\n",
        "dataset.columns = (dataset.columns.str.strip().str.upper()\n",
        "              .str.replace(' ', '_')\n",
        "              .str.replace('(', '')\n",
        "              .str.replace(')', ''))\n",
        "str_cols = dataset.select_dtypes(include = 'object').columns\n",
        "LE = LabelEncoder()\n",
        "for col in str_cols:\n",
        "    dataset[col] = LE.fit_transform(dataset[col].astype(str)) # Converts to int64\n",
        "scaler = MinMaxScaler()\n",
        "dataset = pd.DataFrame(scaler.fit_transform(dataset), columns = dataset.columns)\n",
        "imputer = KNNImputer(n_neighbors=5)\n",
        "dataset = pd.DataFrame(imputer.fit_transform(dataset),columns = dataset.columns)\n",
        "dataset = dataset.sample(frac=1)\n",
        "\n",
        "y = dataset['H1N1_VACCINE']\n",
        "X = dataset.drop([\"H1N1_VACCINE\"],axis=1)\n",
        "\n",
        "\n",
        "# split into train/test sets\n",
        "trainX, testX, trainy, testy = train_test_split(X, y, test_size=0.3, random_state=1)\n",
        "# fit a model\n",
        "model = SVC()\n",
        "calibrated = CalibratedClassifierCV(model, method='sigmoid', cv=5)\n",
        "calibrated.fit(trainX, trainy)\n",
        "# predict probabilities\n",
        "probs = calibrated.predict_proba(testX)[:, 1]\n",
        "# reliability diagram\n",
        "fop, mpv = calibration_curve(testy, probs, n_bins=10, normalize=True)\n",
        "# plot perfectly calibrated\n",
        "pyplot.plot([0, 1], [0, 1], linestyle='--')\n",
        "# plot calibrated reliability\n",
        "pyplot.plot(mpv, fop, marker='.')\n",
        "pyplot.show()"
      ],
      "execution_count": null,
      "outputs": [
        {
          "output_type": "display_data",
          "data": {
            "image/png": "[encoded data removed]",
            "text/plain": [
              "<Figure size 432x288 with 1 Axes>"
            ]
          },
          "metadata": {
            "tags": []
          }
        }
      ]
    },
    {
      "cell_type": "markdown",
      "metadata": {
        "id": "Evo2ir9GL3OG"
      },
      "source": [
        ""
      ]
    },
    {
      "cell_type": "code",
      "metadata": {
        "colab": {
          "base_uri": "https://localhost:8080/",
          "height": 284
        },
        "id": "usI1kshgMDX0",
        "outputId": "239fdd93-75ef-4e93-e368-2973aca1862d"
      },
      "source": [
        "from sklearn.datasets import make_classification\n",
        "from sklearn.svm import SVC\n",
        "from sklearn.calibration import CalibratedClassifierCV\n",
        "from sklearn.model_selection import train_test_split\n",
        "from sklearn.calibration import calibration_curve\n",
        "from matplotlib import pyplot\n",
        " \n",
        "# predict uncalibrated probabilities\n",
        "def uncalibrated(trainX, testX, trainy):\n",
        "\t# fit a model\n",
        "\tmodel = SVC()\n",
        "\tmodel.fit(trainX, trainy)\n",
        "\t# predict probabilities\n",
        "\treturn model.decision_function(testX)\n",
        " \n",
        "# predict calibrated probabilities\n",
        "def calibrated(trainX, testX, trainy):\n",
        "\t# define model\n",
        "\tmodel = SVC()\n",
        "\tmodel.fit(trainX,trainy)\n",
        "\t# define and fit calibration model\n",
        "\tcalibrated = CalibratedClassifierCV(model, cv='prefit')\n",
        "\tcalibrated.fit(trainX, trainy)\n",
        "\t# predict probabilities\n",
        "\treturn calibrated.predict_proba(testX)[:, 1]\n",
        " \n",
        "# generate 2 class dataset\n",
        "\n",
        "\n",
        "dataset = pd.read_csv(\"/content/vaccine_data.csv\", na_values='NaN')\n",
        "dataset.columns = (dataset.columns.str.strip().str.upper()\n",
        "              .str.replace(' ', '_')\n",
        "              .str.replace('(', '')\n",
        "              .str.replace(')', ''))\n",
        "str_cols = dataset.select_dtypes(include = 'object').columns\n",
        "LE = LabelEncoder()\n",
        "for col in str_cols:\n",
        "    dataset[col] = LE.fit_transform(dataset[col].astype(str)) # Converts to int64\n",
        "scaler = MinMaxScaler()\n",
        "dataset = pd.DataFrame(scaler.fit_transform(dataset), columns = dataset.columns)\n",
        "imputer = KNNImputer(n_neighbors=5)\n",
        "dataset = pd.DataFrame(imputer.fit_transform(dataset),columns = dataset.columns)\n",
        "dataset = dataset.sample(frac=1)\n",
        "\n",
        "y = dataset['H1N1_VACCINE']\n",
        "X = dataset.drop([\"H1N1_VACCINE\"],axis=1)\n",
        "\n",
        "\n",
        "# split into train/test sets\n",
        "trainX, testX, trainy, testy = train_test_split(X, y, test_size=0.3, random_state=1)\n",
        "# uncalibrated predictions\n",
        "yhat_uncalibrated = uncalibrated(trainX, testX, trainy)\n",
        "# calibrated predictions\n",
        "yhat_calibrated = calibrated(trainX, testX, trainy)\n",
        "# reliability diagrams\n",
        "fop_uncalibrated, mpv_uncalibrated = calibration_curve(testy, yhat_uncalibrated, n_bins=10, normalize=True)\n",
        "fop_calibrated, mpv_calibrated = calibration_curve(testy, yhat_calibrated, n_bins=10)\n",
        "# plot perfectly calibrated\n",
        "pyplot.plot([0, 1], [0, 1], linestyle='--', color='black')\n",
        "# plot model reliabilities\n",
        "pyplot.plot(mpv_uncalibrated, fop_uncalibrated, 'b', marker='.')\n",
        "pyplot.plot(mpv_calibrated, fop_calibrated, 'y', marker='.')\n",
        "plt.title('Calibrated and Uncalibrated SVM Calibration Curves')\n",
        "\n",
        "\n",
        "pyplot.show()"
      ],
      "execution_count": null,
      "outputs": [
        {
          "output_type": "display_data",
          "data": {
            "image/png": "[encoded data removed]",
            "text/plain": [
              "<Figure size 432x288 with 1 Axes>"
            ]
          },
          "metadata": {
            "tags": []
          }
        }
      ]
    },
    {
      "cell_type": "code",
      "metadata": {
        "id": "33vXWYViUho_"
      },
      "source": [
        ""
      ],
      "execution_count": null,
      "outputs": []
    },
    {
      "cell_type": "code",
      "metadata": {
        "colab": {
          "base_uri": "https://localhost:8080/"
        },
        "id": "BypJlSreURp7",
        "outputId": "8bc19122-10de-4579-8768-7268535a2c26"
      },
      "source": [
        "import numpy\n",
        "X = numpy.linspace(0, 1, num=20)\n",
        "Y = mpv_calibrated\n",
        "# Mean X and Y\n",
        "mean_x = np.mean(X)\n",
        "mean_y = np.mean(Y)\n",
        "\n",
        "\n",
        "# Calculating Root Mean Squares Error\n",
        "rmse = 0\n",
        "n = 10\n",
        "for i in range(n):\n",
        "    y_pred = 0 + 1 * X[i]\n",
        "    rmse += (Y[i] - y_pred) ** 2\n",
        "rmse = np.sqrt(rmse/n)\n",
        "print(\"RMSE\")\n",
        "print(rmse)\n",
        "\n",
        "\n",
        "# Calculating R2 Score\n",
        "ss_tot = 0\n",
        "ss_res = 0\n",
        "for i in range(n):\n",
        "    y_pred = 0 + 1 * X[i]\n",
        "    ss_tot += (Y[i] - mean_y) ** 2\n",
        "    ss_res += (Y[i] - y_pred) ** 2\n",
        "r2 = 1 - (ss_res/ss_tot)\n",
        "print(\"R2 Score\")\n",
        "print(r2)\n"
      ],
      "execution_count": null,
      "outputs": [
        {
          "output_type": "stream",
          "text": [
            "RMSE\n",
            "0.29488194598384965\n",
            "R2 Score\n",
            "-0.05469243740106999\n"
          ],
          "name": "stdout"
        }
      ]
    },
    {
      "cell_type": "code",
      "metadata": {
        "colab": {
          "base_uri": "https://localhost:8080/"
        },
        "id": "klw0RyNNVR3j",
        "outputId": "781c85af-e903-4fee-abe1-ed7be88ac500"
      },
      "source": [
        "import numpy\n",
        "X = numpy.linspace(0, 1, num=20)\n",
        "Y = mpv_uncalibrated\n",
        "\n",
        "# Mean X and Y\n",
        "mean_x = np.mean(X)\n",
        "mean_y = np.mean(Y)\n",
        "\n",
        "\n",
        "# Calculating Root Mean Squares Error\n",
        "rmse = 0\n",
        "n = 10\n",
        "for i in range(n):\n",
        "    y_pred = 0 + 1 * X[i]\n",
        "    rmse += (Y[i] - y_pred) ** 2\n",
        "rmse = np.sqrt(rmse/n)\n",
        "print(\"RMSE\")\n",
        "print(rmse)\n",
        "\n",
        "# Calculating R2 Score\n",
        "ss_tot = 0\n",
        "ss_res = 0\n",
        "for i in range(n):\n",
        "    y_pred = 0 + 1 * X[i]\n",
        "    ss_tot += (Y[i] - mean_y) ** 2\n",
        "    ss_res += (Y[i] - y_pred) ** 2\n",
        "r2 = 1 - (ss_res/ss_tot)\n",
        "print(\"R2 Score\")\n",
        "print(r2)\n"
      ],
      "execution_count": null,
      "outputs": [
        {
          "output_type": "stream",
          "text": [
            "RMSE\n",
            "0.29203310680842487\n",
            "R2 Score\n",
            "-0.10966118868400376\n"
          ],
          "name": "stdout"
        }
      ]
    },
    {
      "cell_type": "code",
      "metadata": {
        "colab": {
          "base_uri": "https://localhost:8080/",
          "height": 284
        },
        "id": "wSig7DS4lS_n",
        "outputId": "b33eb04e-75a9-4fb7-dad5-e2c1a402a387"
      },
      "source": [
        "from sklearn.datasets import make_classification\n",
        "from sklearn.svm import SVC\n",
        "from sklearn.calibration import CalibratedClassifierCV\n",
        "from sklearn.model_selection import train_test_split\n",
        "from sklearn.calibration import calibration_curve\n",
        "\n",
        "from sklearn.linear_model import SGDClassifier\n",
        "from matplotlib import pyplot\n",
        " \n",
        "# predict uncalibrated probabilities\n",
        "def uncalibrated(trainX, testX, trainy):\n",
        "\t# fit a model\n",
        "\tmodel = SVC()\n",
        "\tmodel.fit(trainX, trainy)\n",
        "\t# predict probabilities\n",
        "\treturn model.decision_function(testX)\n",
        " \n",
        "# predict calibrated probabilities\n",
        "def calibrated(trainX, testX, trainy):\n",
        "\t# define model\n",
        "\tbase_clf = SGDClassifier(max_iter=10000,alpha=0.001,tol=0.0001)\n",
        "\tclf=CalibratedClassifierCV(base_clf)\n",
        "\tclf.fit(trainX,trainy)\n",
        "\t# define and fit calibration model\n",
        "\n",
        "\t# predict probabilities\n",
        "\treturn clf.predict_proba(testX)[:, 1]\n",
        " \n",
        "\n",
        "\n",
        "dataset = pd.read_csv(\"/content/vaccine_data.csv\", na_values='NaN')\n",
        "dataset.columns = (dataset.columns.str.strip().str.upper()\n",
        "              .str.replace(' ', '_')\n",
        "              .str.replace('(', '')\n",
        "              .str.replace(')', ''))\n",
        "str_cols = dataset.select_dtypes(include = 'object').columns\n",
        "LE = LabelEncoder()\n",
        "for col in str_cols:\n",
        "    dataset[col] = LE.fit_transform(dataset[col].astype(str)) # Converts to int64\n",
        "scaler = MinMaxScaler()\n",
        "dataset = pd.DataFrame(scaler.fit_transform(dataset), columns = dataset.columns)\n",
        "imputer = KNNImputer(n_neighbors=5)\n",
        "dataset = pd.DataFrame(imputer.fit_transform(dataset),columns = dataset.columns)\n",
        "dataset = dataset.sample(frac=1)\n",
        "\n",
        "y = dataset['H1N1_VACCINE']\n",
        "X = dataset.drop([\"H1N1_VACCINE\"],axis=1)\n",
        "\n",
        "\n",
        "# split into train/test sets\n",
        "trainX, testX, trainy, testy = train_test_split(X, y, test_size=0.3, random_state=1)\n",
        "# uncalibrated predictions\n",
        "yhat_uncalibrated = uncalibrated(trainX, testX, trainy)\n",
        "# calibrated predictions\n",
        "yhat_calibrated = calibrated(trainX, testX, trainy)\n",
        "# reliability diagrams\n",
        "fop_uncalibrated, mpv_uncalibrated = calibration_curve(testy, yhat_uncalibrated, n_bins=10, normalize=True)\n",
        "fop_calibrated, mpv_calibrated = calibration_curve(testy, yhat_calibrated, n_bins=10)\n",
        "# plot perfectly calibrated\n",
        "pyplot.plot([0, 1], [0, 1], linestyle='--', color='black')\n",
        "# plot model reliabilities\n",
        "pyplot.plot(mpv_uncalibrated, fop_uncalibrated, 'b', marker='.')\n",
        "pyplot.plot(mpv_calibrated, fop_calibrated, 'y', marker='.')\n",
        "plt.title('Calibrated and Uncalibrated SVM Calibration Curves')\n",
        "\n",
        "\n",
        "pyplot.show()"
      ],
      "execution_count": null,
      "outputs": [
        {
          "output_type": "display_data",
          "data": {
            "image/png": "[encoded data removed]",
            "text/plain": [
              "<Figure size 432x288 with 1 Axes>"
            ]
          },
          "metadata": {
            "tags": []
          }
        }
      ]
    },
    {
      "cell_type": "code",
      "metadata": {
        "colab": {
          "base_uri": "https://localhost:8080/",
          "height": 301
        },
        "id": "c__1EPGXpJmK",
        "outputId": "a4c6bca4-032a-4855-bf8a-d73b890207f0"
      },
      "source": [
        "# plot perfectly calibrated\n",
        "pyplot.plot([0, 1], [0, 1], linestyle='--', color='black')\n",
        "# plot model reliabilities\n",
        "pyplot.plot(mpv_uncalibrated, fop_uncalibrated, 'b', marker='.', label='Uncalibrated')\n",
        "pyplot.plot(mpv_calibrated, fop_calibrated, 'y', marker='.',label='Calibrated')\n",
        "plt.title('Calibration plot')\n",
        "plt.ylabel('Average of actual y')\n",
        "plt.xlabel('Average of probability of y predicted')\n",
        "\n",
        "\n",
        "plt.legend()\n",
        "\n",
        "pyplot.show()"
      ],
      "execution_count": null,
      "outputs": [
        {
          "output_type": "display_data",
          "data": {
            "image/png": "[encoded data removed]",
            "text/plain": [
              "<Figure size 432x288 with 1 Axes>"
            ]
          },
          "metadata": {
            "tags": []
          }
        }
      ]
    },
    {
      "cell_type": "code",
      "metadata": {
        "colab": {
          "base_uri": "https://localhost:8080/",
          "height": 329
        },
        "id": "rkSLPmMjRDud",
        "outputId": "1a84bdf8-1b7f-4af1-b807-7e572156a4fd"
      },
      "source": [
        "base_clf = SGDClassifier(max_iter=10000,alpha=0.001,tol=0.0001)\n",
        "clf=CalibratedClassifierCV(base_clf)\n",
        "clf.fit(trainX,trainy)\n",
        "\n",
        "predictions = clf.predict(X_test)\n",
        "from sklearn.metrics import confusion_matrix\n",
        "cm = confusion_matrix(y_test, predictions)\n",
        "plot_confusion_matrix(cm,class_names)\n",
        "\n",
        "print('Accuracy = ' \n",
        "      + str( (cm[0][0]+cm[1][1]) / (sum(cm[0]) + sum(cm[1])) ))"
      ],
      "execution_count": null,
      "outputs": [
        {
          "output_type": "stream",
          "text": [
            "Accuracy = 0.6977411705977786\n"
          ],
          "name": "stdout"
        },
        {
          "output_type": "display_data",
          "data": {
            "image/png": "[encoded data removed]",
            "text/plain": [
              "<Figure size 432x288 with 2 Axes>"
            ]
          },
          "metadata": {
            "tags": []
          }
        }
      ]
    },
    {
      "cell_type": "code",
      "metadata": {
        "id": "_z6PK39wiEiW",
        "colab": {
          "base_uri": "https://localhost:8080/",
          "height": 596
        },
        "outputId": "eab6ab98-43d0-49a6-8c3e-972d513a970d"
      },
      "source": [
        "from sklearn.datasets import make_classification\n",
        "from sklearn.svm import SVC\n",
        "from sklearn.calibration import CalibratedClassifierCV\n",
        "from sklearn.model_selection import train_test_split\n",
        "from sklearn.calibration import calibration_curve\n",
        "\n",
        "from sklearn.linear_model import SGDClassifier\n",
        "from matplotlib import pyplot\n",
        " \n",
        "# predict uncalibrated probabilities\n",
        "def uncalibrated(trainX, testX, trainy):\n",
        "\t# fit a model\n",
        "\tmodel = SVC()\n",
        "\tmodel.fit(trainX, trainy)\n",
        "\t# predict probabilities\n",
        "\treturn model.decision_function(testX)\n",
        " \n",
        "# predict calibrated probabilities\n",
        "def calibrated(trainX, testX, trainy):\n",
        "\t# define model\n",
        "\tbase_clf = SGDClassifier(max_iter=10000,alpha=0.001,tol=0.0001)\n",
        "\tclf=CalibratedClassifierCV(base_clf)\n",
        "\tclf.fit(trainX,trainy)\n",
        "\t# define and fit calibration model\n",
        "\n",
        "\t# predict probabilities\n",
        "\treturn clf.predict_proba(testX)[:, 1]\n",
        "\n",
        "dataset = pd.read_csv(\"/content/vaccine_data.csv\", na_values='NaN')\n",
        "dataset.columns = (dataset.columns.str.strip().str.upper()\n",
        "              .str.replace(' ', '_')\n",
        "              .str.replace('(', '')\n",
        "              .str.replace(')', ''))\n",
        "str_cols = dataset.select_dtypes(include = 'object').columns\n",
        "LE = LabelEncoder()\n",
        "for col in str_cols:\n",
        "    dataset[col] = LE.fit_transform(dataset[col].astype(str)) # Converts to int64\n",
        "scaler = MinMaxScaler()\n",
        "dataset = pd.DataFrame(scaler.fit_transform(dataset), columns = dataset.columns)\n",
        "imputer = KNNImputer(n_neighbors=5)\n",
        "dataset = pd.DataFrame(imputer.fit_transform(dataset),columns = dataset.columns)\n",
        "dataset = dataset.sample(frac=1)\n",
        "\n",
        "y = dataset['H1N1_VACCINE']\n",
        "X = dataset.drop([\"H1N1_VACCINE\"],axis=1)\n",
        "\n",
        "\n",
        "# split into train/test sets\n",
        "trainX, testX, trainy, testy = train_test_split(X, y, test_size=0.3, random_state=1)\n",
        "# uncalibrated predictions\n",
        "yhat_uncalibrated = uncalibrated(trainX, testX, trainy)\n",
        "# calibrated predictions\n",
        "yhat_calibrated = calibrated(trainX, testX, trainy)\n",
        "# reliability diagrams\n",
        "fop_uncalibrated, mpv_uncalibrated = calibration_curve(testy, yhat_uncalibrated, n_bins=10, normalize=True)\n",
        "fop_calibrated, mpv_calibrated = calibration_curve(testy, yhat_calibrated, n_bins=10)\n",
        "# plot perfectly calibrated\n",
        "pyplot.plot([0, 1], [0, 1], linestyle='--', color='black')\n",
        "# plot model reliabilities\n",
        "pyplot.plot(mpv_uncalibrated, fop_uncalibrated, 'b', marker='.')\n",
        "pyplot.plot(mpv_calibrated, fop_calibrated, 'y', marker='.')\n",
        "plt.title('Calibrated and Uncalibrated SVM Calibration Curves')\n",
        "pyplot.show()\n",
        "\n",
        "\n",
        "\n",
        "classifier = svm.SVC(kernel='linear')\n",
        "class_names=np.array(['0','1']) \n",
        "lab_enc = preprocessing.LabelEncoder()\n",
        "\n",
        "y_train = y_train.astype('int')\n",
        "y_test = y_test.astype('int')\n",
        "\n",
        "classifier.fit(X_train, y_train) # Then we train our model, with our balanced data train.\n",
        "\n",
        "prediction_SVM_all = classifier.predict(X_test) #And finally, we predict our data test.\n",
        "\n",
        "from sklearn.metrics import confusion_matrix\n",
        "cm = confusion_matrix(y_test, prediction_SVM_all)\n",
        "plot_confusion_matrix(cm,class_names)\n",
        "\n",
        "print('Accuracy = ' \n",
        "      + str( (cm[0][0]+cm[1][1]) / (sum(cm[0]) + sum(cm[1])) ))\n",
        "\n",
        "\n",
        "\n",
        "\n"
      ],
      "execution_count": null,
      "outputs": [
        {
          "output_type": "display_data",
          "data": {
            "image/png": "[encoded data removed]",
            "text/plain": [
              "<Figure size 432x288 with 1 Axes>"
            ]
          },
          "metadata": {
            "tags": []
          }
        },
        {
          "output_type": "stream",
          "text": [
            "Accuracy = 0.7898415075502309\n"
          ],
          "name": "stdout"
        },
        {
          "output_type": "display_data",
          "data": {
            "image/png": "[encoded data removed]",
            "text/plain": [
              "<Figure size 432x288 with 2 Axes>"
            ]
          },
          "metadata": {
            "tags": []
          }
        }
      ]
    }
  ]
}